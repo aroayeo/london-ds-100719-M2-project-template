{
 "cells": [
  {
   "cell_type": "code",
   "execution_count": 183,
   "metadata": {},
   "outputs": [],
   "source": [
    "import sqlite3 \n",
    "import pandas as pd\n",
    "import matplotlib.pyplot as plt\n",
    "%matplotlib inline\n",
    "\n",
    "import requests\n",
    "import numpy as np\n",
    "from datetime import date, datetime\n",
    "import time\n",
    "import pymongo\n"
   ]
  },
  {
   "cell_type": "code",
   "execution_count": 2,
   "metadata": {},
   "outputs": [],
   "source": [
    "#connect to the database and create a cursor\n",
    "con = sqlite3.connect('database.sqlite')\n",
    "cur = con.cursor()"
   ]
  },
  {
   "cell_type": "code",
   "execution_count": 215,
   "metadata": {},
   "outputs": [
    {
     "data": {
      "text/plain": [
       "[('Matches',),\n",
       " ('Teams',),\n",
       " ('Teams_in_Matches',),\n",
       " ('Unique_Teams',),\n",
       " ('sqlite_sequence',)]"
      ]
     },
     "execution_count": 215,
     "metadata": {},
     "output_type": "execute_result"
    }
   ],
   "source": [
    "#fecth all the table names\n",
    "query = \"\"\"SELECT name FROM sqlite_master\n",
    "         WHERE type='table'\n",
    "         ORDER BY name\"\"\"\n",
    "\n",
    "cur.execute(query).fetchall()"
   ]
  },
  {
   "cell_type": "code",
   "execution_count": null,
   "metadata": {},
   "outputs": [],
   "source": []
  },
  {
   "cell_type": "code",
   "execution_count": null,
   "metadata": {},
   "outputs": [],
   "source": []
  },
  {
   "cell_type": "code",
   "execution_count": null,
   "metadata": {},
   "outputs": [],
   "source": []
  },
  {
   "cell_type": "code",
   "execution_count": 7,
   "metadata": {},
   "outputs": [],
   "source": [
    "columns_matches = pd.DataFrame(con.execute('select * from Unique_Teams').fetchall())\n"
   ]
  },
  {
   "cell_type": "code",
   "execution_count": 8,
   "metadata": {},
   "outputs": [
    {
     "data": {
      "text/html": [
       "<div>\n",
       "<style scoped>\n",
       "    .dataframe tbody tr th:only-of-type {\n",
       "        vertical-align: middle;\n",
       "    }\n",
       "\n",
       "    .dataframe tbody tr th {\n",
       "        vertical-align: top;\n",
       "    }\n",
       "\n",
       "    .dataframe thead th {\n",
       "        text-align: right;\n",
       "    }\n",
       "</style>\n",
       "<table border=\"1\" class=\"dataframe\">\n",
       "  <thead>\n",
       "    <tr style=\"text-align: right;\">\n",
       "      <th></th>\n",
       "      <th>0</th>\n",
       "      <th>1</th>\n",
       "    </tr>\n",
       "  </thead>\n",
       "  <tbody>\n",
       "    <tr>\n",
       "      <th>0</th>\n",
       "      <td>Matches</td>\n",
       "      <td>46774</td>\n",
       "    </tr>\n",
       "    <tr>\n",
       "      <th>1</th>\n",
       "      <td>Unique_Teams</td>\n",
       "      <td>128</td>\n",
       "    </tr>\n",
       "  </tbody>\n",
       "</table>\n",
       "</div>"
      ],
      "text/plain": [
       "              0      1\n",
       "0       Matches  46774\n",
       "1  Unique_Teams    128"
      ]
     },
     "execution_count": 8,
     "metadata": {},
     "output_type": "execute_result"
    }
   ],
   "source": [
    "columns_matches = con.execute('select * from sqlite_sequence')\n",
    "df1 = pd.DataFrame(columns_matches)\n",
    "\n",
    "df1"
   ]
  },
  {
   "cell_type": "code",
   "execution_count": 9,
   "metadata": {},
   "outputs": [],
   "source": [
    "matches = cur.execute(\"\"\"select *\n",
    "            from Matches \n",
    "            where Season = 2011\n",
    "            AND ((Div = 'D1' OR Div='D2'))\"\"\").fetchall()\n",
    "\n",
    "df_matches = pd.DataFrame(matches)\n",
    "df_matches. columns = [i[0] for i in cur.description]\n",
    "\n",
    "\n",
    "dates = df_matches['Date'].unique()"
   ]
  },
  {
   "cell_type": "code",
   "execution_count": 10,
   "metadata": {},
   "outputs": [
    {
     "data": {
      "text/plain": [
       "array(['2012-03-31', '2011-12-11', '2011-08-13', '2011-11-27',\n",
       "       '2012-02-18', '2012-01-20', '2012-02-04', '2012-04-21',\n",
       "       '2011-09-18', '2011-10-23', '2011-10-01', '2012-03-03',\n",
       "       '2011-08-27', '2012-03-17', '2011-11-06', '2012-05-05',\n",
       "       '2012-04-11', '2011-12-17', '2012-02-03', '2011-10-29',\n",
       "       '2012-01-22', '2011-12-03', '2012-04-14', '2012-03-25',\n",
       "       '2012-03-10', '2012-04-07', '2011-11-19', '2011-10-14',\n",
       "       '2011-09-24', '2012-04-28', '2011-12-18', '2012-03-02',\n",
       "       '2012-03-16', '2012-02-17', '2011-08-06', '2011-11-04',\n",
       "       '2011-09-16', '2011-07-15', '2012-05-06', '2012-02-11',\n",
       "       '2011-10-02', '2012-03-30', '2011-10-22', '2011-08-26',\n",
       "       '2011-08-07', '2012-02-24', '2011-07-17', '2012-02-12',\n",
       "       '2011-08-22', '2011-09-09', '2012-04-01', '2011-09-25',\n",
       "       '2012-04-20', '2011-11-25', '2012-03-09', '2011-11-07',\n",
       "       '2011-09-10', '2011-08-21', '2011-09-26', '2012-03-26',\n",
       "       '2011-10-30', '2012-02-13', '2012-02-26', '2011-12-19',\n",
       "       '2012-03-11', '2011-11-26', '2012-04-23', '2011-12-16',\n",
       "       '2011-11-05', '2012-04-10', '2012-04-15', '2012-02-05',\n",
       "       '2012-03-04', '2011-09-17', '2012-01-21', '2012-03-18',\n",
       "       '2012-04-22', '2011-08-20', '2012-02-10', '2012-02-25',\n",
       "       '2011-12-10', '2012-01-29', '2011-10-16', '2011-08-05',\n",
       "       '2012-03-23', '2011-09-23', '2012-01-28', '2011-10-15',\n",
       "       '2012-03-24', '2011-11-18', '2012-04-29', '2011-12-09',\n",
       "       '2012-04-08', '2012-03-12', '2011-07-23', '2011-10-28',\n",
       "       '2012-01-27', '2011-12-04', '2011-09-11', '2011-09-30',\n",
       "       '2012-02-19', '2012-04-13', '2011-10-21', '2011-08-14',\n",
       "       '2011-09-12', '2011-07-18', '2011-08-08', '2011-07-24',\n",
       "       '2011-12-13', '2011-08-28', '2011-08-19', '2012-03-14',\n",
       "       '2011-08-12', '2012-03-05', '2011-12-02', '2011-09-19',\n",
       "       '2011-07-25', '2012-04-02', '2012-02-06', '2011-11-21',\n",
       "       '2011-07-22', '2011-08-29', '2012-04-05', '2011-11-28',\n",
       "       '2011-12-12', '2011-11-20', '2012-02-27', '2011-07-16',\n",
       "       '2011-10-31', '2012-02-20', '2011-10-17', '2011-12-05',\n",
       "       '2012-04-16', '2011-10-03', '2012-03-19', '2011-08-15'],\n",
       "      dtype=object)"
      ]
     },
     "execution_count": 10,
     "metadata": {},
     "output_type": "execute_result"
    }
   ],
   "source": [
    "df_matches['Date'].unique()"
   ]
  },
  {
   "cell_type": "markdown",
   "metadata": {},
   "source": [
    "## 1. The name of the team"
   ]
  },
  {
   "cell_type": "code",
   "execution_count": 11,
   "metadata": {},
   "outputs": [],
   "source": [
    "team_names = cur.execute(\"\"\" SELECT *\n",
    "                FROM Unique_Teams\n",
    "                \"\"\").fetchall()\n"
   ]
  },
  {
   "cell_type": "code",
   "execution_count": 12,
   "metadata": {},
   "outputs": [],
   "source": [
    "team_names = pd.DataFrame(team_names)\n",
    "team_names. columns = [i[0] for i in cur.description]\n"
   ]
  },
  {
   "cell_type": "markdown",
   "metadata": {},
   "source": [
    "## 2. The total number of goals scored by the team during the 2011 season"
   ]
  },
  {
   "cell_type": "code",
   "execution_count": 13,
   "metadata": {},
   "outputs": [],
   "source": [
    "home = cur.execute(\"\"\"SELECT HomeTeam as team, sum(FTHG) as home\n",
    "                FROM Matches\n",
    "                WHERE Season = 2011\n",
    "                AND ((Div = 'D1' OR Div='D2'))\n",
    "                GROUP BY HomeTeam\"\"\").fetchall()\n",
    "\n",
    "\n",
    "home_df = pd.DataFrame(home)\n",
    "home_df.columns = [i[0] for i in cur.description]\n",
    "\n",
    "away = cur.execute(\"\"\"SELECT AwayTeam as team, sum(FTAG) as away \n",
    "                FROM Matches\n",
    "                WHERE Season =2011\n",
    "                AND ((Div = 'D1' OR Div='D2'))\n",
    "                GROUP BY AwayTeam\"\"\").fetchall()\n",
    "away_df = pd.DataFrame(away)\n",
    "away_df.columns = [i[0] for i in cur.description]\n"
   ]
  },
  {
   "cell_type": "code",
   "execution_count": 14,
   "metadata": {},
   "outputs": [
    {
     "data": {
      "text/html": [
       "<div>\n",
       "<style scoped>\n",
       "    .dataframe tbody tr th:only-of-type {\n",
       "        vertical-align: middle;\n",
       "    }\n",
       "\n",
       "    .dataframe tbody tr th {\n",
       "        vertical-align: top;\n",
       "    }\n",
       "\n",
       "    .dataframe thead th {\n",
       "        text-align: right;\n",
       "    }\n",
       "</style>\n",
       "<table border=\"1\" class=\"dataframe\">\n",
       "  <thead>\n",
       "    <tr style=\"text-align: right;\">\n",
       "      <th></th>\n",
       "      <th>team</th>\n",
       "      <th>away</th>\n",
       "    </tr>\n",
       "  </thead>\n",
       "  <tbody>\n",
       "    <tr>\n",
       "      <th>0</th>\n",
       "      <td>Aachen</td>\n",
       "      <td>15</td>\n",
       "    </tr>\n",
       "    <tr>\n",
       "      <th>1</th>\n",
       "      <td>Augsburg</td>\n",
       "      <td>16</td>\n",
       "    </tr>\n",
       "    <tr>\n",
       "      <th>2</th>\n",
       "      <td>Bayern Munich</td>\n",
       "      <td>28</td>\n",
       "    </tr>\n",
       "    <tr>\n",
       "      <th>3</th>\n",
       "      <td>Bochum</td>\n",
       "      <td>18</td>\n",
       "    </tr>\n",
       "    <tr>\n",
       "      <th>4</th>\n",
       "      <td>Braunschweig</td>\n",
       "      <td>16</td>\n",
       "    </tr>\n",
       "  </tbody>\n",
       "</table>\n",
       "</div>"
      ],
      "text/plain": [
       "            team  away\n",
       "0         Aachen    15\n",
       "1       Augsburg    16\n",
       "2  Bayern Munich    28\n",
       "3         Bochum    18\n",
       "4   Braunschweig    16"
      ]
     },
     "execution_count": 14,
     "metadata": {},
     "output_type": "execute_result"
    }
   ],
   "source": [
    "# home_df.head()\n",
    "away_df.head()"
   ]
  },
  {
   "cell_type": "code",
   "execution_count": 15,
   "metadata": {},
   "outputs": [
    {
     "data": {
      "text/html": [
       "<div>\n",
       "<style scoped>\n",
       "    .dataframe tbody tr th:only-of-type {\n",
       "        vertical-align: middle;\n",
       "    }\n",
       "\n",
       "    .dataframe tbody tr th {\n",
       "        vertical-align: top;\n",
       "    }\n",
       "\n",
       "    .dataframe thead th {\n",
       "        text-align: right;\n",
       "    }\n",
       "</style>\n",
       "<table border=\"1\" class=\"dataframe\">\n",
       "  <thead>\n",
       "    <tr style=\"text-align: right;\">\n",
       "      <th></th>\n",
       "      <th>team</th>\n",
       "      <th>away</th>\n",
       "      <th>home</th>\n",
       "      <th>total_goals</th>\n",
       "    </tr>\n",
       "  </thead>\n",
       "  <tbody>\n",
       "    <tr>\n",
       "      <th>0</th>\n",
       "      <td>Aachen</td>\n",
       "      <td>15</td>\n",
       "      <td>15</td>\n",
       "      <td>30</td>\n",
       "    </tr>\n",
       "    <tr>\n",
       "      <th>1</th>\n",
       "      <td>Augsburg</td>\n",
       "      <td>16</td>\n",
       "      <td>20</td>\n",
       "      <td>36</td>\n",
       "    </tr>\n",
       "    <tr>\n",
       "      <th>2</th>\n",
       "      <td>Bayern Munich</td>\n",
       "      <td>28</td>\n",
       "      <td>49</td>\n",
       "      <td>77</td>\n",
       "    </tr>\n",
       "    <tr>\n",
       "      <th>3</th>\n",
       "      <td>Bochum</td>\n",
       "      <td>18</td>\n",
       "      <td>23</td>\n",
       "      <td>41</td>\n",
       "    </tr>\n",
       "    <tr>\n",
       "      <th>4</th>\n",
       "      <td>Braunschweig</td>\n",
       "      <td>16</td>\n",
       "      <td>21</td>\n",
       "      <td>37</td>\n",
       "    </tr>\n",
       "  </tbody>\n",
       "</table>\n",
       "</div>"
      ],
      "text/plain": [
       "            team  away  home  total_goals\n",
       "0         Aachen    15    15           30\n",
       "1       Augsburg    16    20           36\n",
       "2  Bayern Munich    28    49           77\n",
       "3         Bochum    18    23           41\n",
       "4   Braunschweig    16    21           37"
      ]
     },
     "execution_count": 15,
     "metadata": {},
     "output_type": "execute_result"
    }
   ],
   "source": [
    "goals_df= pd.merge(away_df, home_df, on='team')\n",
    "\n",
    "goals_df['total_goals'] = goals_df['home']+ goals_df['away']\n",
    "\n",
    "goals_df.head()"
   ]
  },
  {
   "cell_type": "markdown",
   "metadata": {},
   "source": [
    "## 3. The total number of wins the team earned during the 2011 season"
   ]
  },
  {
   "cell_type": "code",
   "execution_count": 16,
   "metadata": {},
   "outputs": [
    {
     "data": {
      "text/html": [
       "<div>\n",
       "<style scoped>\n",
       "    .dataframe tbody tr th:only-of-type {\n",
       "        vertical-align: middle;\n",
       "    }\n",
       "\n",
       "    .dataframe tbody tr th {\n",
       "        vertical-align: top;\n",
       "    }\n",
       "\n",
       "    .dataframe thead th {\n",
       "        text-align: right;\n",
       "    }\n",
       "</style>\n",
       "<table border=\"1\" class=\"dataframe\">\n",
       "  <thead>\n",
       "    <tr style=\"text-align: right;\">\n",
       "      <th></th>\n",
       "      <th>team</th>\n",
       "      <th>homewin</th>\n",
       "    </tr>\n",
       "  </thead>\n",
       "  <tbody>\n",
       "    <tr>\n",
       "      <th>0</th>\n",
       "      <td>Aachen</td>\n",
       "      <td>4</td>\n",
       "    </tr>\n",
       "    <tr>\n",
       "      <th>1</th>\n",
       "      <td>Augsburg</td>\n",
       "      <td>6</td>\n",
       "    </tr>\n",
       "    <tr>\n",
       "      <th>2</th>\n",
       "      <td>Bayern Munich</td>\n",
       "      <td>14</td>\n",
       "    </tr>\n",
       "    <tr>\n",
       "      <th>3</th>\n",
       "      <td>Bochum</td>\n",
       "      <td>7</td>\n",
       "    </tr>\n",
       "    <tr>\n",
       "      <th>4</th>\n",
       "      <td>Braunschweig</td>\n",
       "      <td>6</td>\n",
       "    </tr>\n",
       "  </tbody>\n",
       "</table>\n",
       "</div>"
      ],
      "text/plain": [
       "            team  homewin\n",
       "0         Aachen        4\n",
       "1       Augsburg        6\n",
       "2  Bayern Munich       14\n",
       "3         Bochum        7\n",
       "4   Braunschweig        6"
      ]
     },
     "execution_count": 16,
     "metadata": {},
     "output_type": "execute_result"
    }
   ],
   "source": [
    "homewin = cur.execute(\"\"\"SELECT HomeTeam as team, count(FTR) as homewin\n",
    "                FROM Matches\n",
    "                WHERE Season = 2011\n",
    "                AND FTR='H'\n",
    "                AND ((Div = 'D1' OR Div='D2'))\n",
    "                GROUP BY HomeTeam\"\"\").fetchall()\n",
    "\n",
    "\n",
    "homewin_df = pd.DataFrame(homewin)\n",
    "homewin_df.columns = [i[0] for i in cur.description]\n",
    "\n",
    "\n",
    "homewin_df.head()"
   ]
  },
  {
   "cell_type": "code",
   "execution_count": 17,
   "metadata": {},
   "outputs": [
    {
     "data": {
      "text/html": [
       "<div>\n",
       "<style scoped>\n",
       "    .dataframe tbody tr th:only-of-type {\n",
       "        vertical-align: middle;\n",
       "    }\n",
       "\n",
       "    .dataframe tbody tr th {\n",
       "        vertical-align: top;\n",
       "    }\n",
       "\n",
       "    .dataframe thead th {\n",
       "        text-align: right;\n",
       "    }\n",
       "</style>\n",
       "<table border=\"1\" class=\"dataframe\">\n",
       "  <thead>\n",
       "    <tr style=\"text-align: right;\">\n",
       "      <th></th>\n",
       "      <th>team</th>\n",
       "      <th>homeloss</th>\n",
       "    </tr>\n",
       "  </thead>\n",
       "  <tbody>\n",
       "    <tr>\n",
       "      <th>0</th>\n",
       "      <td>Aachen</td>\n",
       "      <td>7</td>\n",
       "    </tr>\n",
       "    <tr>\n",
       "      <th>1</th>\n",
       "      <td>Augsburg</td>\n",
       "      <td>4</td>\n",
       "    </tr>\n",
       "    <tr>\n",
       "      <th>2</th>\n",
       "      <td>Bayern Munich</td>\n",
       "      <td>2</td>\n",
       "    </tr>\n",
       "    <tr>\n",
       "      <th>3</th>\n",
       "      <td>Bochum</td>\n",
       "      <td>7</td>\n",
       "    </tr>\n",
       "    <tr>\n",
       "      <th>4</th>\n",
       "      <td>Braunschweig</td>\n",
       "      <td>3</td>\n",
       "    </tr>\n",
       "  </tbody>\n",
       "</table>\n",
       "</div>"
      ],
      "text/plain": [
       "            team  homeloss\n",
       "0         Aachen         7\n",
       "1       Augsburg         4\n",
       "2  Bayern Munich         2\n",
       "3         Bochum         7\n",
       "4   Braunschweig         3"
      ]
     },
     "execution_count": 17,
     "metadata": {},
     "output_type": "execute_result"
    }
   ],
   "source": [
    "homeloss = cur.execute(\"\"\"SELECT HomeTeam as team, count(FTR) as homeloss \n",
    "                FROM Matches\n",
    "                WHERE Season = 2011\n",
    "                AND FTR='A'\n",
    "                AND ((Div = 'D1' OR Div='D2'))\n",
    "                GROUP BY HomeTeam\"\"\").fetchall()\n",
    "\n",
    "\n",
    "homeloss_df = pd.DataFrame(homeloss)\n",
    "homeloss_df.columns = [i[0] for i in cur.description]\n",
    "\n",
    "\n",
    "homeloss_df.head()"
   ]
  },
  {
   "cell_type": "code",
   "execution_count": 18,
   "metadata": {},
   "outputs": [
    {
     "data": {
      "text/html": [
       "<div>\n",
       "<style scoped>\n",
       "    .dataframe tbody tr th:only-of-type {\n",
       "        vertical-align: middle;\n",
       "    }\n",
       "\n",
       "    .dataframe tbody tr th {\n",
       "        vertical-align: top;\n",
       "    }\n",
       "\n",
       "    .dataframe thead th {\n",
       "        text-align: right;\n",
       "    }\n",
       "</style>\n",
       "<table border=\"1\" class=\"dataframe\">\n",
       "  <thead>\n",
       "    <tr style=\"text-align: right;\">\n",
       "      <th></th>\n",
       "      <th>team</th>\n",
       "      <th>awaywin</th>\n",
       "    </tr>\n",
       "  </thead>\n",
       "  <tbody>\n",
       "    <tr>\n",
       "      <th>0</th>\n",
       "      <td>Aachen</td>\n",
       "      <td>2</td>\n",
       "    </tr>\n",
       "    <tr>\n",
       "      <th>1</th>\n",
       "      <td>Augsburg</td>\n",
       "      <td>2</td>\n",
       "    </tr>\n",
       "    <tr>\n",
       "      <th>2</th>\n",
       "      <td>Bayern Munich</td>\n",
       "      <td>9</td>\n",
       "    </tr>\n",
       "    <tr>\n",
       "      <th>3</th>\n",
       "      <td>Bochum</td>\n",
       "      <td>3</td>\n",
       "    </tr>\n",
       "    <tr>\n",
       "      <th>4</th>\n",
       "      <td>Braunschweig</td>\n",
       "      <td>4</td>\n",
       "    </tr>\n",
       "  </tbody>\n",
       "</table>\n",
       "</div>"
      ],
      "text/plain": [
       "            team  awaywin\n",
       "0         Aachen        2\n",
       "1       Augsburg        2\n",
       "2  Bayern Munich        9\n",
       "3         Bochum        3\n",
       "4   Braunschweig        4"
      ]
     },
     "execution_count": 18,
     "metadata": {},
     "output_type": "execute_result"
    }
   ],
   "source": [
    "awaywin = cur.execute(\"\"\"SELECT AwayTeam as team, count(FTR) as awaywin\n",
    "                FROM Matches\n",
    "                WHERE Season =2011\n",
    "                AND FTR='A'\n",
    "                AND NOT Div='E0'\n",
    "                GROUP BY AwayTeam\"\"\").fetchall()\n",
    "\n",
    "awaywin_df = pd.DataFrame(awaywin)\n",
    "awaywin_df.columns = [i[0] for i in cur.description]\n",
    "\n",
    "awaywin_df.head()"
   ]
  },
  {
   "cell_type": "code",
   "execution_count": 19,
   "metadata": {},
   "outputs": [
    {
     "data": {
      "text/html": [
       "<div>\n",
       "<style scoped>\n",
       "    .dataframe tbody tr th:only-of-type {\n",
       "        vertical-align: middle;\n",
       "    }\n",
       "\n",
       "    .dataframe tbody tr th {\n",
       "        vertical-align: top;\n",
       "    }\n",
       "\n",
       "    .dataframe thead th {\n",
       "        text-align: right;\n",
       "    }\n",
       "</style>\n",
       "<table border=\"1\" class=\"dataframe\">\n",
       "  <thead>\n",
       "    <tr style=\"text-align: right;\">\n",
       "      <th></th>\n",
       "      <th>team</th>\n",
       "      <th>awayloss</th>\n",
       "    </tr>\n",
       "  </thead>\n",
       "  <tbody>\n",
       "    <tr>\n",
       "      <th>0</th>\n",
       "      <td>Aachen</td>\n",
       "      <td>8</td>\n",
       "    </tr>\n",
       "    <tr>\n",
       "      <th>1</th>\n",
       "      <td>Augsburg</td>\n",
       "      <td>8</td>\n",
       "    </tr>\n",
       "    <tr>\n",
       "      <th>2</th>\n",
       "      <td>Bayern Munich</td>\n",
       "      <td>5</td>\n",
       "    </tr>\n",
       "    <tr>\n",
       "      <th>3</th>\n",
       "      <td>Bochum</td>\n",
       "      <td>10</td>\n",
       "    </tr>\n",
       "    <tr>\n",
       "      <th>4</th>\n",
       "      <td>Braunschweig</td>\n",
       "      <td>6</td>\n",
       "    </tr>\n",
       "  </tbody>\n",
       "</table>\n",
       "</div>"
      ],
      "text/plain": [
       "            team  awayloss\n",
       "0         Aachen         8\n",
       "1       Augsburg         8\n",
       "2  Bayern Munich         5\n",
       "3         Bochum        10\n",
       "4   Braunschweig         6"
      ]
     },
     "execution_count": 19,
     "metadata": {},
     "output_type": "execute_result"
    }
   ],
   "source": [
    "awayloss = cur.execute(\"\"\"SELECT AwayTeam as team, count(FTR) as awayloss\n",
    "                FROM Matches\n",
    "                WHERE Season =2011\n",
    "                AND FTR='H'\n",
    "                AND ((Div = 'D1' OR Div='D2'))\n",
    "                GROUP BY AwayTeam\"\"\").fetchall()\n",
    "\n",
    "awayloss_df = pd.DataFrame(awayloss)\n",
    "awayloss_df.columns = [i[0] for i in cur.description]\n",
    "\n",
    "awayloss_df.head()"
   ]
  },
  {
   "cell_type": "code",
   "execution_count": 20,
   "metadata": {},
   "outputs": [
    {
     "data": {
      "text/html": [
       "<div>\n",
       "<style scoped>\n",
       "    .dataframe tbody tr th:only-of-type {\n",
       "        vertical-align: middle;\n",
       "    }\n",
       "\n",
       "    .dataframe tbody tr th {\n",
       "        vertical-align: top;\n",
       "    }\n",
       "\n",
       "    .dataframe thead th {\n",
       "        text-align: right;\n",
       "    }\n",
       "</style>\n",
       "<table border=\"1\" class=\"dataframe\">\n",
       "  <thead>\n",
       "    <tr style=\"text-align: right;\">\n",
       "      <th></th>\n",
       "      <th>team</th>\n",
       "      <th>awaywin</th>\n",
       "      <th>homewin</th>\n",
       "      <th>totalwin</th>\n",
       "    </tr>\n",
       "  </thead>\n",
       "  <tbody>\n",
       "    <tr>\n",
       "      <th>0</th>\n",
       "      <td>Aachen</td>\n",
       "      <td>2</td>\n",
       "      <td>4</td>\n",
       "      <td>6</td>\n",
       "    </tr>\n",
       "    <tr>\n",
       "      <th>1</th>\n",
       "      <td>Augsburg</td>\n",
       "      <td>2</td>\n",
       "      <td>6</td>\n",
       "      <td>8</td>\n",
       "    </tr>\n",
       "    <tr>\n",
       "      <th>2</th>\n",
       "      <td>Bayern Munich</td>\n",
       "      <td>9</td>\n",
       "      <td>14</td>\n",
       "      <td>23</td>\n",
       "    </tr>\n",
       "    <tr>\n",
       "      <th>3</th>\n",
       "      <td>Bochum</td>\n",
       "      <td>3</td>\n",
       "      <td>7</td>\n",
       "      <td>10</td>\n",
       "    </tr>\n",
       "    <tr>\n",
       "      <th>4</th>\n",
       "      <td>Braunschweig</td>\n",
       "      <td>4</td>\n",
       "      <td>6</td>\n",
       "      <td>10</td>\n",
       "    </tr>\n",
       "  </tbody>\n",
       "</table>\n",
       "</div>"
      ],
      "text/plain": [
       "            team  awaywin  homewin  totalwin\n",
       "0         Aachen        2        4         6\n",
       "1       Augsburg        2        6         8\n",
       "2  Bayern Munich        9       14        23\n",
       "3         Bochum        3        7        10\n",
       "4   Braunschweig        4        6        10"
      ]
     },
     "execution_count": 20,
     "metadata": {},
     "output_type": "execute_result"
    }
   ],
   "source": [
    "wins_df= pd.merge(awaywin_df, homewin_df, on='team')\n",
    "\n",
    "wins_df['totalwin'] = wins_df['homewin']+ wins_df['awaywin']\n",
    "wins_df.head()\n"
   ]
  },
  {
   "cell_type": "code",
   "execution_count": 21,
   "metadata": {},
   "outputs": [
    {
     "data": {
      "text/html": [
       "<div>\n",
       "<style scoped>\n",
       "    .dataframe tbody tr th:only-of-type {\n",
       "        vertical-align: middle;\n",
       "    }\n",
       "\n",
       "    .dataframe tbody tr th {\n",
       "        vertical-align: top;\n",
       "    }\n",
       "\n",
       "    .dataframe thead th {\n",
       "        text-align: right;\n",
       "    }\n",
       "</style>\n",
       "<table border=\"1\" class=\"dataframe\">\n",
       "  <thead>\n",
       "    <tr style=\"text-align: right;\">\n",
       "      <th></th>\n",
       "      <th>team</th>\n",
       "      <th>awayloss</th>\n",
       "      <th>homeloss</th>\n",
       "      <th>totaloss</th>\n",
       "    </tr>\n",
       "  </thead>\n",
       "  <tbody>\n",
       "    <tr>\n",
       "      <th>0</th>\n",
       "      <td>Aachen</td>\n",
       "      <td>8</td>\n",
       "      <td>7</td>\n",
       "      <td>15</td>\n",
       "    </tr>\n",
       "    <tr>\n",
       "      <th>1</th>\n",
       "      <td>Augsburg</td>\n",
       "      <td>8</td>\n",
       "      <td>4</td>\n",
       "      <td>12</td>\n",
       "    </tr>\n",
       "    <tr>\n",
       "      <th>2</th>\n",
       "      <td>Bayern Munich</td>\n",
       "      <td>5</td>\n",
       "      <td>2</td>\n",
       "      <td>7</td>\n",
       "    </tr>\n",
       "    <tr>\n",
       "      <th>3</th>\n",
       "      <td>Bochum</td>\n",
       "      <td>10</td>\n",
       "      <td>7</td>\n",
       "      <td>17</td>\n",
       "    </tr>\n",
       "    <tr>\n",
       "      <th>4</th>\n",
       "      <td>Braunschweig</td>\n",
       "      <td>6</td>\n",
       "      <td>3</td>\n",
       "      <td>9</td>\n",
       "    </tr>\n",
       "  </tbody>\n",
       "</table>\n",
       "</div>"
      ],
      "text/plain": [
       "            team  awayloss  homeloss  totaloss\n",
       "0         Aachen         8         7        15\n",
       "1       Augsburg         8         4        12\n",
       "2  Bayern Munich         5         2         7\n",
       "3         Bochum        10         7        17\n",
       "4   Braunschweig         6         3         9"
      ]
     },
     "execution_count": 21,
     "metadata": {},
     "output_type": "execute_result"
    }
   ],
   "source": [
    "loss_df= pd.merge(awayloss_df, homeloss_df, on='team')\n",
    "\n",
    "loss_df['totaloss'] = loss_df['homeloss']+ loss_df['awayloss']\n",
    "\n",
    "loss_df.head()"
   ]
  },
  {
   "cell_type": "code",
   "execution_count": 22,
   "metadata": {},
   "outputs": [],
   "source": [
    "totalwinloss = pd.merge(wins_df, loss_df, on='team', how='left')"
   ]
  },
  {
   "cell_type": "code",
   "execution_count": 23,
   "metadata": {},
   "outputs": [
    {
     "data": {
      "text/html": [
       "<div>\n",
       "<style scoped>\n",
       "    .dataframe tbody tr th:only-of-type {\n",
       "        vertical-align: middle;\n",
       "    }\n",
       "\n",
       "    .dataframe tbody tr th {\n",
       "        vertical-align: top;\n",
       "    }\n",
       "\n",
       "    .dataframe thead th {\n",
       "        text-align: right;\n",
       "    }\n",
       "</style>\n",
       "<table border=\"1\" class=\"dataframe\">\n",
       "  <thead>\n",
       "    <tr style=\"text-align: right;\">\n",
       "      <th></th>\n",
       "      <th>team</th>\n",
       "      <th>awaywin</th>\n",
       "      <th>homewin</th>\n",
       "      <th>totalwin</th>\n",
       "      <th>awayloss</th>\n",
       "      <th>homeloss</th>\n",
       "      <th>totaloss</th>\n",
       "    </tr>\n",
       "  </thead>\n",
       "  <tbody>\n",
       "    <tr>\n",
       "      <th>0</th>\n",
       "      <td>Aachen</td>\n",
       "      <td>2</td>\n",
       "      <td>4</td>\n",
       "      <td>6</td>\n",
       "      <td>8.0</td>\n",
       "      <td>7.0</td>\n",
       "      <td>15.0</td>\n",
       "    </tr>\n",
       "    <tr>\n",
       "      <th>1</th>\n",
       "      <td>Augsburg</td>\n",
       "      <td>2</td>\n",
       "      <td>6</td>\n",
       "      <td>8</td>\n",
       "      <td>8.0</td>\n",
       "      <td>4.0</td>\n",
       "      <td>12.0</td>\n",
       "    </tr>\n",
       "    <tr>\n",
       "      <th>2</th>\n",
       "      <td>Bayern Munich</td>\n",
       "      <td>9</td>\n",
       "      <td>14</td>\n",
       "      <td>23</td>\n",
       "      <td>5.0</td>\n",
       "      <td>2.0</td>\n",
       "      <td>7.0</td>\n",
       "    </tr>\n",
       "    <tr>\n",
       "      <th>3</th>\n",
       "      <td>Bochum</td>\n",
       "      <td>3</td>\n",
       "      <td>7</td>\n",
       "      <td>10</td>\n",
       "      <td>10.0</td>\n",
       "      <td>7.0</td>\n",
       "      <td>17.0</td>\n",
       "    </tr>\n",
       "    <tr>\n",
       "      <th>4</th>\n",
       "      <td>Braunschweig</td>\n",
       "      <td>4</td>\n",
       "      <td>6</td>\n",
       "      <td>10</td>\n",
       "      <td>6.0</td>\n",
       "      <td>3.0</td>\n",
       "      <td>9.0</td>\n",
       "    </tr>\n",
       "  </tbody>\n",
       "</table>\n",
       "</div>"
      ],
      "text/plain": [
       "            team  awaywin  homewin  totalwin  awayloss  homeloss  totaloss\n",
       "0         Aachen        2        4         6       8.0       7.0      15.0\n",
       "1       Augsburg        2        6         8       8.0       4.0      12.0\n",
       "2  Bayern Munich        9       14        23       5.0       2.0       7.0\n",
       "3         Bochum        3        7        10      10.0       7.0      17.0\n",
       "4   Braunschweig        4        6        10       6.0       3.0       9.0"
      ]
     },
     "execution_count": 23,
     "metadata": {},
     "output_type": "execute_result"
    }
   ],
   "source": [
    "totalwinloss.head()"
   ]
  },
  {
   "cell_type": "markdown",
   "metadata": {},
   "source": [
    "## 4. A histogram visualization of the team's wins and losses for the 2011 season (store the visualization directly)"
   ]
  },
  {
   "cell_type": "code",
   "execution_count": 24,
   "metadata": {},
   "outputs": [
    {
     "data": {
      "text/plain": [
       "array([[<matplotlib.axes._subplots.AxesSubplot object at 0x11dca2240>,\n",
       "        <matplotlib.axes._subplots.AxesSubplot object at 0x11dc27ef0>],\n",
       "       [<matplotlib.axes._subplots.AxesSubplot object at 0x11df9a588>,\n",
       "        <matplotlib.axes._subplots.AxesSubplot object at 0x11dfcab38>],\n",
       "       [<matplotlib.axes._subplots.AxesSubplot object at 0x11e008128>,\n",
       "        <matplotlib.axes._subplots.AxesSubplot object at 0x11e0386d8>]],\n",
       "      dtype=object)"
      ]
     },
     "execution_count": 24,
     "metadata": {},
     "output_type": "execute_result"
    },
    {
     "data": {
      "image/png": "[encoded data removed]",
      "text/plain": [
       "<Figure size 720x720 with 6 Axes>"
      ]
     },
     "metadata": {
      "needs_background": "light"
     },
     "output_type": "display_data"
    }
   ],
   "source": [
    "totalwinloss.hist(figsize=(10,10))"
   ]
  },
  {
   "cell_type": "markdown",
   "metadata": {},
   "source": [
    "### API: Weather Data"
   ]
  },
  {
   "cell_type": "code",
   "execution_count": 25,
   "metadata": {},
   "outputs": [
    {
     "name": "stdout",
     "output_type": "stream",
     "text": [
      "Requirement already satisfied: python-dotenv in /Users/flatironschool/anaconda3/lib/python3.7/site-packages (0.10.3)\n"
     ]
    }
   ],
   "source": [
    "!pip install python-dotenv"
   ]
  },
  {
   "cell_type": "code",
   "execution_count": 26,
   "metadata": {},
   "outputs": [],
   "source": [
    "# lat 52.5200, long 13.4050 for Berling\n",
    "# [YYYY]-[MM]-[DD]T[HH]:[MM]:[SS][timezone]. timezone\n",
    "\n",
    "%load_ext autoreload\n",
    "%autoreload 2\n",
    "\n",
    "from dotenv import load_dotenv\n",
    "import os\n",
    "\n",
    "load_dotenv()\n",
    "\n",
    "class WeatherGetter():\n",
    "\n",
    "    def __init__(self):\n",
    "        # Let's set our secrets and keys from the .env file\n",
    "        # as environment variables.\n",
    "        self.BASE_URL = 'https://api.darksky.net'\n",
    "        self.token = os.getenv('DARKSKY_KEY')\n",
    "\n",
    "        if len(self.token) == 0:\n",
    "            raise ValueError('Missing API key!')\n",
    "    \n",
    "    def getForecast(self, lat, long, time):\n",
    "        url = 'https://api.darksky.net/forecast/{}/{},{},{}?exclude=currently,alerts,flags,minutely'.format(self.token,lat,long,time)\n",
    "        data = requests.get(url)\n",
    "        return data.json()\n",
    "\n",
    "\n",
    "\n",
    "call = WeatherGetter()\n",
    "                           \n",
    "# darkweather.getForecast(52.5200,13.4050,1323626400)\n"
   ]
  },
  {
   "cell_type": "code",
   "execution_count": null,
   "metadata": {},
   "outputs": [],
   "source": []
  },
  {
   "cell_type": "code",
   "execution_count": 64,
   "metadata": {},
   "outputs": [],
   "source": [
    "# dates_weather = df_matches['Date'].unique()\n",
    "\n",
    "unique = df_matches['Date'].unique()\n",
    "\n",
    "dates_list = []\n",
    "\n",
    "for datetime in unique:\n",
    "    dates_list.append(datetime + \"T20:00:00\")"
   ]
  },
  {
   "cell_type": "code",
   "execution_count": 65,
   "metadata": {},
   "outputs": [
    {
     "data": {
      "text/plain": [
       "136"
      ]
     },
     "execution_count": 65,
     "metadata": {},
     "output_type": "execute_result"
    }
   ],
   "source": [
    "len(dates_list)"
   ]
  },
  {
   "cell_type": "code",
   "execution_count": 29,
   "metadata": {},
   "outputs": [],
   "source": [
    "# lat = 52.5200\n",
    "# long = 13.4050\n",
    "# weather_json=[]\n",
    "\n",
    "# for date in mydates:\n",
    "#     weather = call.getForecast(lat,long,date)\n",
    "#     weather_json.append(weather)\n"
   ]
  },
  {
   "cell_type": "code",
   "execution_count": 30,
   "metadata": {},
   "outputs": [],
   "source": [
    "weather = requests.get(f'https://api.darksky.net/forecast/40d2e11e7eb4415b0687a0269c1f5f94/52.5200, 13.4050, 2012-01-31T20:00:00').json()"
   ]
  },
  {
   "cell_type": "code",
   "execution_count": null,
   "metadata": {},
   "outputs": [],
   "source": []
  },
  {
   "cell_type": "code",
   "execution_count": 31,
   "metadata": {},
   "outputs": [],
   "source": [
    "# weather_dates_2={}\n",
    "\n",
    "# for date in dates_list:\n",
    "#     weather = requests.get(f'https://api.darksky.net/forecast/40d2e11e7eb4415b0687a0269c1f5f94/52.5200, 13.4050, {date}').json()\n",
    "#     weather_like = weather\n",
    "#     try:\n",
    "#         weather_dates_2.append(weather['daily']['data'][0]['icon'])\n",
    "#     except:                           \n",
    "#         weather_dates_2.append(weather['daily']['data'][0]['summary'])\n",
    "# weather_dates_2"
   ]
  },
  {
   "cell_type": "code",
   "execution_count": null,
   "metadata": {},
   "outputs": [],
   "source": [
    "\n"
   ]
  },
  {
   "cell_type": "code",
   "execution_count": 68,
   "metadata": {},
   "outputs": [
    {
     "data": {
      "text/plain": [
       "{'2012-03-31T20:00:00': 'Mostly Cloudy',\n",
       " '2011-12-11T20:00:00': 'Clear',\n",
       " '2011-08-13T20:00:00': 'Clear',\n",
       " '2011-11-27T20:00:00': 'Partly Cloudy',\n",
       " '2012-02-18T20:00:00': 'Mostly Cloudy',\n",
       " '2012-01-20T20:00:00': 'Mostly Cloudy',\n",
       " '2012-02-04T20:00:00': 'Clear',\n",
       " '2012-04-21T20:00:00': 'Clear',\n",
       " '2011-09-18T20:00:00': 'Possible Light Rain',\n",
       " '2011-10-23T20:00:00': 'Clear',\n",
       " '2011-10-01T20:00:00': 'Clear',\n",
       " '2012-03-03T20:00:00': 'Clear',\n",
       " '2011-08-27T20:00:00': 'Possible Light Rain',\n",
       " '2012-03-17T20:00:00': 'Clear',\n",
       " '2011-11-06T20:00:00': 'Clear',\n",
       " '2012-05-05T20:00:00': 'Mostly Cloudy',\n",
       " '2012-04-11T20:00:00': 'Mostly Cloudy',\n",
       " '2011-12-17T20:00:00': 'Mostly Cloudy',\n",
       " '2012-02-03T20:00:00': 'Partly Cloudy',\n",
       " '2011-10-29T20:00:00': 'Clear',\n",
       " '2012-01-22T20:00:00': 'Possible Drizzle',\n",
       " '2011-12-03T20:00:00': 'Possible Drizzle',\n",
       " '2012-04-14T20:00:00': 'Clear',\n",
       " '2012-03-25T20:00:00': 'Clear',\n",
       " '2012-03-10T20:00:00': 'Mostly Cloudy',\n",
       " '2012-04-07T20:00:00': 'Mostly Cloudy',\n",
       " '2011-11-19T20:00:00': 'Clear',\n",
       " '2011-10-14T20:00:00': 'Clear',\n",
       " '2011-09-24T20:00:00': 'Clear',\n",
       " '2012-04-28T20:00:00': 'Clear',\n",
       " '2011-12-18T20:00:00': 'Mostly Cloudy',\n",
       " '2012-03-02T20:00:00': 'Clear',\n",
       " '2012-03-16T20:00:00': 'Clear',\n",
       " '2012-02-17T20:00:00': 'Mostly Cloudy',\n",
       " '2011-08-06T20:00:00': 'Clear',\n",
       " '2011-11-04T20:00:00': 'Clear',\n",
       " '2011-09-16T20:00:00': 'Clear',\n",
       " '2011-07-15T20:00:00': 'Mostly Cloudy',\n",
       " '2012-05-06T20:00:00': 'Overcast',\n",
       " '2012-02-11T20:00:00': 'Clear',\n",
       " '2011-10-02T20:00:00': 'Clear',\n",
       " '2012-03-30T20:00:00': 'Mostly Cloudy',\n",
       " '2011-10-22T20:00:00': 'Clear',\n",
       " '2011-08-26T20:00:00': 'Clear',\n",
       " '2011-08-07T20:00:00': 'Mostly Cloudy',\n",
       " '2012-02-24T20:00:00': 'Mostly Cloudy',\n",
       " '2011-07-17T20:00:00': 'Possible Drizzle',\n",
       " '2012-02-12T20:00:00': 'Mostly Cloudy',\n",
       " '2011-08-22T20:00:00': 'Clear',\n",
       " '2011-09-09T20:00:00': 'Mostly Cloudy',\n",
       " '2012-04-01T20:00:00': 'Mostly Cloudy',\n",
       " '2011-09-25T20:00:00': 'Clear',\n",
       " '2012-04-20T20:00:00': 'Mostly Cloudy',\n",
       " '2011-11-25T20:00:00': 'Mostly Cloudy',\n",
       " '2012-03-09T20:00:00': 'Clear',\n",
       " '2011-11-07T20:00:00': 'Clear',\n",
       " '2011-09-10T20:00:00': 'Clear',\n",
       " '2011-08-21T20:00:00': 'Clear',\n",
       " '2011-09-26T20:00:00': 'Clear',\n",
       " '2012-03-26T20:00:00': 'Clear',\n",
       " '2011-10-30T20:00:00': 'Clear',\n",
       " '2012-02-13T20:00:00': 'Mostly Cloudy',\n",
       " '2012-02-26T20:00:00': 'Clear',\n",
       " '2011-12-19T20:00:00': 'Mostly Cloudy',\n",
       " '2012-03-11T20:00:00': 'Mostly Cloudy',\n",
       " '2011-11-26T20:00:00': 'Mostly Cloudy',\n",
       " '2012-04-23T20:00:00': 'Clear',\n",
       " '2011-12-16T20:00:00': 'Light Rain',\n",
       " '2011-11-05T20:00:00': 'Clear',\n",
       " '2012-04-10T20:00:00': 'Clear',\n",
       " '2012-04-15T20:00:00': 'Mostly Cloudy',\n",
       " '2012-02-05T20:00:00': 'Clear',\n",
       " '2012-03-04T20:00:00': 'Clear',\n",
       " '2011-09-17T20:00:00': 'Mostly Cloudy',\n",
       " '2012-01-21T20:00:00': 'Mostly Cloudy',\n",
       " '2012-03-18T20:00:00': 'Mostly Cloudy',\n",
       " '2012-04-22T20:00:00': 'Clear',\n",
       " '2011-08-20T20:00:00': 'Clear',\n",
       " '2012-02-10T20:00:00': 'Mostly Cloudy',\n",
       " '2012-02-25T20:00:00': 'Mostly Cloudy',\n",
       " '2011-12-10T20:00:00': 'Clear',\n",
       " '2012-01-29T20:00:00': 'Clear',\n",
       " '2011-10-16T20:00:00': 'Clear',\n",
       " '2011-08-05T20:00:00': 'Mostly Cloudy',\n",
       " '2012-03-23T20:00:00': 'Clear',\n",
       " '2011-09-23T20:00:00': 'Clear',\n",
       " '2012-01-28T20:00:00': 'Foggy',\n",
       " '2011-10-15T20:00:00': 'Clear',\n",
       " '2012-03-24T20:00:00': 'Clear',\n",
       " '2011-11-18T20:00:00': 'Mostly Cloudy',\n",
       " '2012-04-29T20:00:00': 'Clear',\n",
       " '2011-12-09T20:00:00': 'Clear',\n",
       " '2012-04-08T20:00:00': 'Clear',\n",
       " '2012-03-12T20:00:00': 'Mostly Cloudy',\n",
       " '2011-07-23T20:00:00': 'Clear',\n",
       " '2011-10-28T20:00:00': 'Clear',\n",
       " '2012-01-27T20:00:00': 'Mostly Cloudy',\n",
       " '2011-12-04T20:00:00': 'Mostly Cloudy',\n",
       " '2011-09-11T20:00:00': 'Possible Drizzle',\n",
       " '2011-09-30T20:00:00': 'Clear',\n",
       " '2012-02-19T20:00:00': 'Partly Cloudy',\n",
       " '2012-04-13T20:00:00': 'Partly Cloudy',\n",
       " '2011-10-21T20:00:00': 'Clear',\n",
       " '2011-08-14T20:00:00': 'Possible Drizzle',\n",
       " '2011-09-12T20:00:00': 'Clear',\n",
       " '2011-07-18T20:00:00': 'Clear',\n",
       " '2011-08-08T20:00:00': 'Possible Drizzle',\n",
       " '2011-07-24T20:00:00': 'Mostly Cloudy',\n",
       " '2011-12-13T20:00:00': 'Mostly Cloudy',\n",
       " '2011-08-28T20:00:00': 'Clear',\n",
       " '2011-08-19T20:00:00': 'Clear',\n",
       " '2012-03-14T20:00:00': 'Mostly Cloudy',\n",
       " '2011-08-12T20:00:00': 'Rain',\n",
       " '2012-03-05T20:00:00': 'Clear',\n",
       " '2011-12-02T20:00:00': 'Mostly Cloudy',\n",
       " '2011-09-19T20:00:00': 'Mostly Cloudy',\n",
       " '2011-07-25T20:00:00': 'Mostly Cloudy',\n",
       " '2012-04-02T20:00:00': 'Mostly Cloudy',\n",
       " '2012-02-06T20:00:00': 'Clear',\n",
       " '2011-11-21T20:00:00': 'Clear',\n",
       " '2011-07-22T20:00:00': 'Light Rain',\n",
       " '2011-08-29T20:00:00': 'Mostly Cloudy',\n",
       " '2012-04-05T20:00:00': 'Clear',\n",
       " '2011-11-28T20:00:00': 'Clear',\n",
       " '2011-12-12T20:00:00': 'Mostly Cloudy',\n",
       " '2011-11-20T20:00:00': 'Clear',\n",
       " '2012-02-27T20:00:00': 'Mostly Cloudy',\n",
       " '2011-07-16T20:00:00': 'Clear',\n",
       " '2011-10-31T20:00:00': 'Mostly Cloudy',\n",
       " '2012-02-20T20:00:00': 'Clear',\n",
       " '2011-10-17T20:00:00': 'Mostly Cloudy',\n",
       " '2011-12-05T20:00:00': 'Mostly Cloudy',\n",
       " '2012-04-16T20:00:00': 'Clear',\n",
       " '2011-10-03T20:00:00': 'Clear',\n",
       " '2012-03-19T20:00:00': 'Clear',\n",
       " '2011-08-15T20:00:00': 'Clear'}"
      ]
     },
     "execution_count": 68,
     "metadata": {},
     "output_type": "execute_result"
    }
   ],
   "source": [
    "\n",
    "\n",
    "weather_dates={}\n",
    "\n",
    "for date in dates_list:\n",
    "    weather = requests.get(f'https://api.darksky.net/forecast/fc74c45a88d083f3e27fd9842bdbea64/52.5200, 13.4050, {date}').json()\n",
    "    weather_like = weather['currently']['summary']\n",
    "    weather_dates[date] = weather_like\n",
    "    \n",
    "weather_dates\n"
   ]
  },
  {
   "cell_type": "code",
   "execution_count": null,
   "metadata": {},
   "outputs": [],
   "source": [
    "\n"
   ]
  },
  {
   "cell_type": "code",
   "execution_count": null,
   "metadata": {},
   "outputs": [],
   "source": []
  },
  {
   "cell_type": "code",
   "execution_count": 69,
   "metadata": {},
   "outputs": [],
   "source": [
    "weather_df = pd.DataFrame(list(weather_dates.items()), columns=['date', 'DateValue'])"
   ]
  },
  {
   "cell_type": "code",
   "execution_count": 213,
   "metadata": {},
   "outputs": [
    {
     "data": {
      "text/plain": [
       "(136, 2)"
      ]
     },
     "execution_count": 213,
     "metadata": {},
     "output_type": "execute_result"
    }
   ],
   "source": [
    "weather_df.head()\n",
    "\n",
    "weather_df.shape"
   ]
  },
  {
   "cell_type": "code",
   "execution_count": 66,
   "metadata": {},
   "outputs": [],
   "source": [
    "df_matches['date']= df_matches['Date'].map(lambda x: x + \"T20:00:00\")"
   ]
  },
  {
   "cell_type": "code",
   "execution_count": 67,
   "metadata": {},
   "outputs": [
    {
     "data": {
      "text/plain": [
       "(612, 10)"
      ]
     },
     "execution_count": 67,
     "metadata": {},
     "output_type": "execute_result"
    }
   ],
   "source": [
    "df_matches.shape"
   ]
  },
  {
   "cell_type": "code",
   "execution_count": 71,
   "metadata": {},
   "outputs": [],
   "source": [
    "matches_weather_df = pd.merge(df_matches, weather_df, on='date')"
   ]
  },
  {
   "cell_type": "code",
   "execution_count": 72,
   "metadata": {},
   "outputs": [
    {
     "data": {
      "text/plain": [
       "array(['Mostly Cloudy', 'Clear', 'Partly Cloudy', 'Possible Light Rain',\n",
       "       'Possible Drizzle', 'Overcast', 'Light Rain', 'Foggy', 'Rain'],\n",
       "      dtype=object)"
      ]
     },
     "execution_count": 72,
     "metadata": {},
     "output_type": "execute_result"
    }
   ],
   "source": [
    "matches_weather_df['DateValue'].unique()"
   ]
  },
  {
   "cell_type": "code",
   "execution_count": 109,
   "metadata": {},
   "outputs": [],
   "source": [
    "matches_weather_df['rain'] = matches_weather_df['DateValue'].apply(lambda x: 1 if x=='Rain' else (1 if x=='Light Rain' else 0) )\n"
   ]
  },
  {
   "cell_type": "code",
   "execution_count": null,
   "metadata": {},
   "outputs": [],
   "source": []
  },
  {
   "cell_type": "code",
   "execution_count": 130,
   "metadata": {},
   "outputs": [],
   "source": [
    "matches_weather_df['rain_home_win'] =np.where(np.logical_and(matches_weather_df['FTR']=='H',matches_weather_df['rain']==1),1,0)"
   ]
  },
  {
   "cell_type": "code",
   "execution_count": 131,
   "metadata": {},
   "outputs": [],
   "source": [
    "matches_weather_df['rain_away_win'] =np.where(np.logical_and(matches_weather_df['FTR']=='H',matches_weather_df['rain']==1),1,0)"
   ]
  },
  {
   "cell_type": "code",
   "execution_count": null,
   "metadata": {},
   "outputs": [],
   "source": []
  },
  {
   "cell_type": "code",
   "execution_count": 167,
   "metadata": {},
   "outputs": [],
   "source": [
    "hometeam = matches_weather_df.groupby(['HomeTeam']).sum()\n",
    "\n",
    "hometeam['Team']= hometeam.index\n",
    "\n",
    "home = hometeam.loc[:,['Team','rain_home_win', 'rain']]"
   ]
  },
  {
   "cell_type": "code",
   "execution_count": 168,
   "metadata": {},
   "outputs": [],
   "source": [
    "awayteam = matches_weather_df.groupby(['AwayTeam']).sum()\n",
    "awayteam['Team']= hometeam.index\n",
    "away = awayteam.loc[:,['Team', 'rain_away_win','rain']]"
   ]
  },
  {
   "cell_type": "code",
   "execution_count": 169,
   "metadata": {},
   "outputs": [],
   "source": [
    "rain_wins = pd.merge(away, home, on ='Team')"
   ]
  },
  {
   "cell_type": "code",
   "execution_count": 170,
   "metadata": {},
   "outputs": [
    {
     "data": {
      "text/html": [
       "<div>\n",
       "<style scoped>\n",
       "    .dataframe tbody tr th:only-of-type {\n",
       "        vertical-align: middle;\n",
       "    }\n",
       "\n",
       "    .dataframe tbody tr th {\n",
       "        vertical-align: top;\n",
       "    }\n",
       "\n",
       "    .dataframe thead th {\n",
       "        text-align: right;\n",
       "    }\n",
       "</style>\n",
       "<table border=\"1\" class=\"dataframe\">\n",
       "  <thead>\n",
       "    <tr style=\"text-align: right;\">\n",
       "      <th></th>\n",
       "      <th>Team</th>\n",
       "      <th>rain_away_win</th>\n",
       "      <th>rain_x</th>\n",
       "      <th>rain_home_win</th>\n",
       "      <th>rain_y</th>\n",
       "    </tr>\n",
       "  </thead>\n",
       "  <tbody>\n",
       "    <tr>\n",
       "      <th>0</th>\n",
       "      <td>Aachen</td>\n",
       "      <td>0</td>\n",
       "      <td>0</td>\n",
       "      <td>0</td>\n",
       "      <td>0</td>\n",
       "    </tr>\n",
       "    <tr>\n",
       "      <th>1</th>\n",
       "      <td>Augsburg</td>\n",
       "      <td>0</td>\n",
       "      <td>0</td>\n",
       "      <td>0</td>\n",
       "      <td>0</td>\n",
       "    </tr>\n",
       "    <tr>\n",
       "      <th>2</th>\n",
       "      <td>Bayern Munich</td>\n",
       "      <td>0</td>\n",
       "      <td>0</td>\n",
       "      <td>1</td>\n",
       "      <td>1</td>\n",
       "    </tr>\n",
       "    <tr>\n",
       "      <th>3</th>\n",
       "      <td>Bochum</td>\n",
       "      <td>0</td>\n",
       "      <td>0</td>\n",
       "      <td>1</td>\n",
       "      <td>2</td>\n",
       "    </tr>\n",
       "    <tr>\n",
       "      <th>4</th>\n",
       "      <td>Braunschweig</td>\n",
       "      <td>0</td>\n",
       "      <td>1</td>\n",
       "      <td>0</td>\n",
       "      <td>0</td>\n",
       "    </tr>\n",
       "  </tbody>\n",
       "</table>\n",
       "</div>"
      ],
      "text/plain": [
       "            Team  rain_away_win  rain_x  rain_home_win  rain_y\n",
       "0         Aachen              0       0              0       0\n",
       "1       Augsburg              0       0              0       0\n",
       "2  Bayern Munich              0       0              1       1\n",
       "3         Bochum              0       0              1       2\n",
       "4   Braunschweig              0       1              0       0"
      ]
     },
     "execution_count": 170,
     "metadata": {},
     "output_type": "execute_result"
    }
   ],
   "source": [
    "rain_wins.head()"
   ]
  },
  {
   "cell_type": "code",
   "execution_count": 173,
   "metadata": {},
   "outputs": [],
   "source": [
    "rain_wins.groupby('Team').sum()\n",
    "\n",
    "rain_wins['total']=rain_wins['rain_home_win']+rain_wins['rain_away_win']\n",
    "\n",
    "rain_wins['total_rain'] = rain_wins['rain_x']+rain_wins['rain_y']"
   ]
  },
  {
   "cell_type": "code",
   "execution_count": 175,
   "metadata": {},
   "outputs": [],
   "source": [
    "per_win = rain_wins.groupby('Team').sum()\n",
    "\n",
    "per_win['percentage'] = per_win['total']/per_win['total_rain']"
   ]
  },
  {
   "cell_type": "code",
   "execution_count": 180,
   "metadata": {},
   "outputs": [],
   "source": [
    "per_win['team'] = per_win.index"
   ]
  },
  {
   "cell_type": "code",
   "execution_count": 181,
   "metadata": {},
   "outputs": [],
   "source": [
    "mongodata = pd.merge(totalwinloss,per_win, on='team')"
   ]
  },
  {
   "cell_type": "code",
   "execution_count": 184,
   "metadata": {},
   "outputs": [],
   "source": [
    "mymongo = pymongo.MongoClient(\"mongodb://127.0.0.1:27017/\")"
   ]
  },
  {
   "cell_type": "code",
   "execution_count": 186,
   "metadata": {},
   "outputs": [
    {
     "data": {
      "text/plain": [
       "MongoClient(host=['127.0.0.1:27017'], document_class=dict, tz_aware=False, connect=True)"
      ]
     },
     "execution_count": 186,
     "metadata": {},
     "output_type": "execute_result"
    }
   ],
   "source": [
    "mymongo"
   ]
  },
  {
   "cell_type": "code",
   "execution_count": 188,
   "metadata": {},
   "outputs": [],
   "source": [
    "mydb = mymongo['teams_data']"
   ]
  },
  {
   "cell_type": "code",
   "execution_count": 189,
   "metadata": {},
   "outputs": [],
   "source": [
    "mycollection = mydb['myteams']"
   ]
  },
  {
   "cell_type": "code",
   "execution_count": 210,
   "metadata": {},
   "outputs": [],
   "source": [
    "mydict = list(mongodata.to_dict(orient='records'))\n"
   ]
  },
  {
   "cell_type": "code",
   "execution_count": 212,
   "metadata": {},
   "outputs": [
    {
     "data": {
      "text/plain": [
       "<pymongo.results.InsertManyResult at 0x11d9dfd48>"
      ]
     },
     "execution_count": 212,
     "metadata": {},
     "output_type": "execute_result"
    }
   ],
   "source": [
    "mycollection.insert_many(mydict)"
   ]
  },
  {
   "cell_type": "code",
   "execution_count": null,
   "metadata": {},
   "outputs": [],
   "source": []
  }
 ],
 "metadata": {
  "kernelspec": {
   "display_name": "Python 3",
   "language": "python",
   "name": "python3"
  },
  "language_info": {
   "codemirror_mode": {
    "name": "ipython",
    "version": 3
   },
   "file_extension": ".py",
   "mimetype": "text/x-python",
   "name": "python",
   "nbconvert_exporter": "python",
   "pygments_lexer": "ipython3",
   "version": "3.7.3"
  }
 },
 "nbformat": 4,
 "nbformat_minor": 4
}
