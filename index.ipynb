{
 "cells": [
  {
   "cell_type": "code",
   "execution_count": 1,
   "metadata": {},
   "outputs": [],
   "source": [
    "import sqlite3 \n",
    "import pandas as pd\n",
    "import matplotlib.pyplot as plt\n",
    "%matplotlib inline\n",
    "\n",
    "import requests\n",
    "import numpy as np"
   ]
  },
  {
   "cell_type": "code",
   "execution_count": 2,
   "metadata": {},
   "outputs": [],
   "source": [
    "con = sqlite3.connect('database.sqlite')\n",
    "\n",
    "cur = con.cursor()"
   ]
  },
  {
   "cell_type": "code",
   "execution_count": 3,
   "metadata": {},
   "outputs": [
    {
     "data": {
      "text/plain": [
       "[('Matches',),\n",
       " ('Teams',),\n",
       " ('Teams_in_Matches',),\n",
       " ('Unique_Teams',),\n",
       " ('sqlite_sequence',)]"
      ]
     },
     "execution_count": 3,
     "metadata": {},
     "output_type": "execute_result"
    }
   ],
   "source": [
    "query = \"\"\"SELECT name FROM sqlite_master\n",
    "         WHERE type='table'\n",
    "         ORDER BY name\"\"\"\n",
    "\n",
    "cur.execute(query).fetchall()"
   ]
  },
  {
   "cell_type": "code",
   "execution_count": 4,
   "metadata": {},
   "outputs": [
    {
     "data": {
      "text/plain": [
       "<sqlite3.Cursor at 0x116919ce0>"
      ]
     },
     "execution_count": 4,
     "metadata": {},
     "output_type": "execute_result"
    }
   ],
   "source": [
    "#checking columns names\n",
    "columns_team = con.execute('select * from Teams')\n",
    "columns_team"
   ]
  },
  {
   "cell_type": "code",
   "execution_count": 5,
   "metadata": {},
   "outputs": [
    {
     "data": {
      "text/plain": [
       "(('Match_ID', None, None, None, None, None, None),\n",
       " ('Div', None, None, None, None, None, None),\n",
       " ('Season', None, None, None, None, None, None),\n",
       " ('Date', None, None, None, None, None, None),\n",
       " ('HomeTeam', None, None, None, None, None, None),\n",
       " ('AwayTeam', None, None, None, None, None, None),\n",
       " ('FTHG', None, None, None, None, None, None),\n",
       " ('FTAG', None, None, None, None, None, None),\n",
       " ('FTR', None, None, None, None, None, None))"
      ]
     },
     "execution_count": 5,
     "metadata": {},
     "output_type": "execute_result"
    }
   ],
   "source": [
    "columns_matches = con.execute('select * from Matches')\n",
    "columns_matches.description"
   ]
  },
  {
   "cell_type": "code",
   "execution_count": 6,
   "metadata": {},
   "outputs": [
    {
     "data": {
      "text/plain": [
       "(('Match_ID', None, None, None, None, None, None),\n",
       " ('Unique_Team_ID', None, None, None, None, None, None))"
      ]
     },
     "execution_count": 6,
     "metadata": {},
     "output_type": "execute_result"
    }
   ],
   "source": [
    "columns_matches = con.execute('select * from Teams_in_Matches')\n",
    "columns_matches.description"
   ]
  },
  {
   "cell_type": "code",
   "execution_count": 7,
   "metadata": {},
   "outputs": [],
   "source": [
    "columns_matches = pd.DataFrame(con.execute('select * from Unique_Teams').fetchall())\n"
   ]
  },
  {
   "cell_type": "code",
   "execution_count": 8,
   "metadata": {},
   "outputs": [
    {
     "data": {
      "text/html": [
       "<div>\n",
       "<style scoped>\n",
       "    .dataframe tbody tr th:only-of-type {\n",
       "        vertical-align: middle;\n",
       "    }\n",
       "\n",
       "    .dataframe tbody tr th {\n",
       "        vertical-align: top;\n",
       "    }\n",
       "\n",
       "    .dataframe thead th {\n",
       "        text-align: right;\n",
       "    }\n",
       "</style>\n",
       "<table border=\"1\" class=\"dataframe\">\n",
       "  <thead>\n",
       "    <tr style=\"text-align: right;\">\n",
       "      <th></th>\n",
       "      <th>0</th>\n",
       "      <th>1</th>\n",
       "    </tr>\n",
       "  </thead>\n",
       "  <tbody>\n",
       "    <tr>\n",
       "      <th>0</th>\n",
       "      <td>Matches</td>\n",
       "      <td>46774</td>\n",
       "    </tr>\n",
       "    <tr>\n",
       "      <th>1</th>\n",
       "      <td>Unique_Teams</td>\n",
       "      <td>128</td>\n",
       "    </tr>\n",
       "  </tbody>\n",
       "</table>\n",
       "</div>"
      ],
      "text/plain": [
       "              0      1\n",
       "0       Matches  46774\n",
       "1  Unique_Teams    128"
      ]
     },
     "execution_count": 8,
     "metadata": {},
     "output_type": "execute_result"
    }
   ],
   "source": [
    "columns_matches = con.execute('select * from sqlite_sequence')\n",
    "df1 = pd.DataFrame(columns_matches)\n",
    "\n",
    "df1"
   ]
  },
  {
   "cell_type": "code",
   "execution_count": 65,
   "metadata": {},
   "outputs": [],
   "source": [
    "matches = cur.execute(\"\"\"select Date\n",
    "            from Matches \n",
    "            where Season = 2011\n",
    "            AND ((Div = 'D1' OR Div='D2'))\"\"\").fetchall()\n",
    "\n",
    "df_matches = pd.DataFrame(matches)\n",
    "df_matches. columns = [i[0] for i in cur.description]\n",
    "\n",
    "\n",
    "dates = df_matches['Date'].unique()"
   ]
  },
  {
   "cell_type": "code",
   "execution_count": 10,
   "metadata": {},
   "outputs": [
    {
     "data": {
      "text/plain": [
       "array(['2010-04-04', '2009-11-01', '2009-10-04', ..., '2017-05-16',\n",
       "       '2017-05-17', '2017-05-18'], dtype=object)"
      ]
     },
     "execution_count": 10,
     "metadata": {},
     "output_type": "execute_result"
    }
   ],
   "source": [
    "df_matches['Date'].unique()"
   ]
  },
  {
   "cell_type": "markdown",
   "metadata": {},
   "source": [
    "## 1. The name of the team"
   ]
  },
  {
   "cell_type": "code",
   "execution_count": 11,
   "metadata": {},
   "outputs": [],
   "source": [
    "team_names = cur.execute(\"\"\" SELECT *\n",
    "                FROM Unique_Teams\n",
    "                \"\"\").fetchall()\n"
   ]
  },
  {
   "cell_type": "code",
   "execution_count": 12,
   "metadata": {},
   "outputs": [],
   "source": [
    "team_names = pd.DataFrame(team_names)\n",
    "team_names. columns = [i[0] for i in cur.description]\n"
   ]
  },
  {
   "cell_type": "markdown",
   "metadata": {},
   "source": [
    "## 2. The total number of goals scored by the team during the 2011 season"
   ]
  },
  {
   "cell_type": "code",
   "execution_count": 13,
   "metadata": {},
   "outputs": [],
   "source": [
    "home = cur.execute(\"\"\"SELECT HomeTeam as team, sum(FTHG) as home\n",
    "                FROM Matches\n",
    "                WHERE Season = 2011\n",
    "                AND ((Div = 'D1' OR Div='D2'))\n",
    "                GROUP BY HomeTeam\"\"\").fetchall()\n",
    "\n",
    "\n",
    "home_df = pd.DataFrame(home)\n",
    "home_df.columns = [i[0] for i in cur.description]\n",
    "\n",
    "away = cur.execute(\"\"\"SELECT AwayTeam as team, sum(FTAG) as away \n",
    "                FROM Matches\n",
    "                WHERE Season =2011\n",
    "                AND ((Div = 'D1' OR Div='D2'))\n",
    "                GROUP BY AwayTeam\"\"\").fetchall()\n",
    "away_df = pd.DataFrame(away)\n",
    "away_df.columns = [i[0] for i in cur.description]\n"
   ]
  },
  {
   "cell_type": "code",
   "execution_count": 14,
   "metadata": {},
   "outputs": [
    {
     "data": {
      "text/html": [
       "<div>\n",
       "<style scoped>\n",
       "    .dataframe tbody tr th:only-of-type {\n",
       "        vertical-align: middle;\n",
       "    }\n",
       "\n",
       "    .dataframe tbody tr th {\n",
       "        vertical-align: top;\n",
       "    }\n",
       "\n",
       "    .dataframe thead th {\n",
       "        text-align: right;\n",
       "    }\n",
       "</style>\n",
       "<table border=\"1\" class=\"dataframe\">\n",
       "  <thead>\n",
       "    <tr style=\"text-align: right;\">\n",
       "      <th></th>\n",
       "      <th>team</th>\n",
       "      <th>away</th>\n",
       "    </tr>\n",
       "  </thead>\n",
       "  <tbody>\n",
       "    <tr>\n",
       "      <th>0</th>\n",
       "      <td>Aachen</td>\n",
       "      <td>15</td>\n",
       "    </tr>\n",
       "    <tr>\n",
       "      <th>1</th>\n",
       "      <td>Augsburg</td>\n",
       "      <td>16</td>\n",
       "    </tr>\n",
       "    <tr>\n",
       "      <th>2</th>\n",
       "      <td>Bayern Munich</td>\n",
       "      <td>28</td>\n",
       "    </tr>\n",
       "    <tr>\n",
       "      <th>3</th>\n",
       "      <td>Bochum</td>\n",
       "      <td>18</td>\n",
       "    </tr>\n",
       "    <tr>\n",
       "      <th>4</th>\n",
       "      <td>Braunschweig</td>\n",
       "      <td>16</td>\n",
       "    </tr>\n",
       "  </tbody>\n",
       "</table>\n",
       "</div>"
      ],
      "text/plain": [
       "            team  away\n",
       "0         Aachen    15\n",
       "1       Augsburg    16\n",
       "2  Bayern Munich    28\n",
       "3         Bochum    18\n",
       "4   Braunschweig    16"
      ]
     },
     "execution_count": 14,
     "metadata": {},
     "output_type": "execute_result"
    }
   ],
   "source": [
    "# home_df.head()\n",
    "away_df.head()"
   ]
  },
  {
   "cell_type": "code",
   "execution_count": 15,
   "metadata": {},
   "outputs": [
    {
     "data": {
      "text/html": [
       "<div>\n",
       "<style scoped>\n",
       "    .dataframe tbody tr th:only-of-type {\n",
       "        vertical-align: middle;\n",
       "    }\n",
       "\n",
       "    .dataframe tbody tr th {\n",
       "        vertical-align: top;\n",
       "    }\n",
       "\n",
       "    .dataframe thead th {\n",
       "        text-align: right;\n",
       "    }\n",
       "</style>\n",
       "<table border=\"1\" class=\"dataframe\">\n",
       "  <thead>\n",
       "    <tr style=\"text-align: right;\">\n",
       "      <th></th>\n",
       "      <th>team</th>\n",
       "      <th>away</th>\n",
       "      <th>home</th>\n",
       "      <th>total_goals</th>\n",
       "    </tr>\n",
       "  </thead>\n",
       "  <tbody>\n",
       "    <tr>\n",
       "      <th>0</th>\n",
       "      <td>Aachen</td>\n",
       "      <td>15</td>\n",
       "      <td>15</td>\n",
       "      <td>30</td>\n",
       "    </tr>\n",
       "    <tr>\n",
       "      <th>1</th>\n",
       "      <td>Augsburg</td>\n",
       "      <td>16</td>\n",
       "      <td>20</td>\n",
       "      <td>36</td>\n",
       "    </tr>\n",
       "    <tr>\n",
       "      <th>2</th>\n",
       "      <td>Bayern Munich</td>\n",
       "      <td>28</td>\n",
       "      <td>49</td>\n",
       "      <td>77</td>\n",
       "    </tr>\n",
       "    <tr>\n",
       "      <th>3</th>\n",
       "      <td>Bochum</td>\n",
       "      <td>18</td>\n",
       "      <td>23</td>\n",
       "      <td>41</td>\n",
       "    </tr>\n",
       "    <tr>\n",
       "      <th>4</th>\n",
       "      <td>Braunschweig</td>\n",
       "      <td>16</td>\n",
       "      <td>21</td>\n",
       "      <td>37</td>\n",
       "    </tr>\n",
       "  </tbody>\n",
       "</table>\n",
       "</div>"
      ],
      "text/plain": [
       "            team  away  home  total_goals\n",
       "0         Aachen    15    15           30\n",
       "1       Augsburg    16    20           36\n",
       "2  Bayern Munich    28    49           77\n",
       "3         Bochum    18    23           41\n",
       "4   Braunschweig    16    21           37"
      ]
     },
     "execution_count": 15,
     "metadata": {},
     "output_type": "execute_result"
    }
   ],
   "source": [
    "goals_df= pd.merge(away_df, home_df, on='team')\n",
    "\n",
    "goals_df['total_goals'] = goals_df['home']+ goals_df['away']\n",
    "\n",
    "goals_df.head()"
   ]
  },
  {
   "cell_type": "markdown",
   "metadata": {},
   "source": [
    "## 3. The total number of wins the team earned during the 2011 season"
   ]
  },
  {
   "cell_type": "code",
   "execution_count": 16,
   "metadata": {},
   "outputs": [
    {
     "data": {
      "text/html": [
       "<div>\n",
       "<style scoped>\n",
       "    .dataframe tbody tr th:only-of-type {\n",
       "        vertical-align: middle;\n",
       "    }\n",
       "\n",
       "    .dataframe tbody tr th {\n",
       "        vertical-align: top;\n",
       "    }\n",
       "\n",
       "    .dataframe thead th {\n",
       "        text-align: right;\n",
       "    }\n",
       "</style>\n",
       "<table border=\"1\" class=\"dataframe\">\n",
       "  <thead>\n",
       "    <tr style=\"text-align: right;\">\n",
       "      <th></th>\n",
       "      <th>team</th>\n",
       "      <th>homewin</th>\n",
       "    </tr>\n",
       "  </thead>\n",
       "  <tbody>\n",
       "    <tr>\n",
       "      <th>0</th>\n",
       "      <td>Aachen</td>\n",
       "      <td>4</td>\n",
       "    </tr>\n",
       "    <tr>\n",
       "      <th>1</th>\n",
       "      <td>Augsburg</td>\n",
       "      <td>6</td>\n",
       "    </tr>\n",
       "    <tr>\n",
       "      <th>2</th>\n",
       "      <td>Bayern Munich</td>\n",
       "      <td>14</td>\n",
       "    </tr>\n",
       "    <tr>\n",
       "      <th>3</th>\n",
       "      <td>Bochum</td>\n",
       "      <td>7</td>\n",
       "    </tr>\n",
       "    <tr>\n",
       "      <th>4</th>\n",
       "      <td>Braunschweig</td>\n",
       "      <td>6</td>\n",
       "    </tr>\n",
       "  </tbody>\n",
       "</table>\n",
       "</div>"
      ],
      "text/plain": [
       "            team  homewin\n",
       "0         Aachen        4\n",
       "1       Augsburg        6\n",
       "2  Bayern Munich       14\n",
       "3         Bochum        7\n",
       "4   Braunschweig        6"
      ]
     },
     "execution_count": 16,
     "metadata": {},
     "output_type": "execute_result"
    }
   ],
   "source": [
    "homewin = cur.execute(\"\"\"SELECT HomeTeam as team, count(FTR) as homewin\n",
    "                FROM Matches\n",
    "                WHERE Season = 2011\n",
    "                AND FTR='H'\n",
    "                AND ((Div = 'D1' OR Div='D2'))\n",
    "                GROUP BY HomeTeam\"\"\").fetchall()\n",
    "\n",
    "\n",
    "homewin_df = pd.DataFrame(homewin)\n",
    "homewin_df.columns = [i[0] for i in cur.description]\n",
    "\n",
    "\n",
    "homewin_df.head()"
   ]
  },
  {
   "cell_type": "code",
   "execution_count": 28,
   "metadata": {},
   "outputs": [
    {
     "data": {
      "text/html": [
       "<div>\n",
       "<style scoped>\n",
       "    .dataframe tbody tr th:only-of-type {\n",
       "        vertical-align: middle;\n",
       "    }\n",
       "\n",
       "    .dataframe tbody tr th {\n",
       "        vertical-align: top;\n",
       "    }\n",
       "\n",
       "    .dataframe thead th {\n",
       "        text-align: right;\n",
       "    }\n",
       "</style>\n",
       "<table border=\"1\" class=\"dataframe\">\n",
       "  <thead>\n",
       "    <tr style=\"text-align: right;\">\n",
       "      <th></th>\n",
       "      <th>team</th>\n",
       "      <th>homeloss</th>\n",
       "    </tr>\n",
       "  </thead>\n",
       "  <tbody>\n",
       "    <tr>\n",
       "      <th>0</th>\n",
       "      <td>Aachen</td>\n",
       "      <td>7</td>\n",
       "    </tr>\n",
       "    <tr>\n",
       "      <th>1</th>\n",
       "      <td>Augsburg</td>\n",
       "      <td>4</td>\n",
       "    </tr>\n",
       "    <tr>\n",
       "      <th>2</th>\n",
       "      <td>Bayern Munich</td>\n",
       "      <td>2</td>\n",
       "    </tr>\n",
       "    <tr>\n",
       "      <th>3</th>\n",
       "      <td>Bochum</td>\n",
       "      <td>7</td>\n",
       "    </tr>\n",
       "    <tr>\n",
       "      <th>4</th>\n",
       "      <td>Braunschweig</td>\n",
       "      <td>3</td>\n",
       "    </tr>\n",
       "  </tbody>\n",
       "</table>\n",
       "</div>"
      ],
      "text/plain": [
       "            team  homeloss\n",
       "0         Aachen         7\n",
       "1       Augsburg         4\n",
       "2  Bayern Munich         2\n",
       "3         Bochum         7\n",
       "4   Braunschweig         3"
      ]
     },
     "execution_count": 28,
     "metadata": {},
     "output_type": "execute_result"
    }
   ],
   "source": [
    "homeloss = cur.execute(\"\"\"SELECT HomeTeam as team, count(FTR) as homeloss \n",
    "                FROM Matches\n",
    "                WHERE Season = 2011\n",
    "                AND FTR='A'\n",
    "                AND ((Div = 'D1' OR Div='D2'))\n",
    "                GROUP BY HomeTeam\"\"\").fetchall()\n",
    "\n",
    "\n",
    "homeloss_df = pd.DataFrame(homeloss)\n",
    "homeloss_df.columns = [i[0] for i in cur.description]\n",
    "\n",
    "\n",
    "homeloss_df.head()"
   ]
  },
  {
   "cell_type": "code",
   "execution_count": 18,
   "metadata": {},
   "outputs": [
    {
     "data": {
      "text/html": [
       "<div>\n",
       "<style scoped>\n",
       "    .dataframe tbody tr th:only-of-type {\n",
       "        vertical-align: middle;\n",
       "    }\n",
       "\n",
       "    .dataframe tbody tr th {\n",
       "        vertical-align: top;\n",
       "    }\n",
       "\n",
       "    .dataframe thead th {\n",
       "        text-align: right;\n",
       "    }\n",
       "</style>\n",
       "<table border=\"1\" class=\"dataframe\">\n",
       "  <thead>\n",
       "    <tr style=\"text-align: right;\">\n",
       "      <th></th>\n",
       "      <th>team</th>\n",
       "      <th>awaywin</th>\n",
       "    </tr>\n",
       "  </thead>\n",
       "  <tbody>\n",
       "    <tr>\n",
       "      <th>0</th>\n",
       "      <td>Aachen</td>\n",
       "      <td>2</td>\n",
       "    </tr>\n",
       "    <tr>\n",
       "      <th>1</th>\n",
       "      <td>Augsburg</td>\n",
       "      <td>2</td>\n",
       "    </tr>\n",
       "    <tr>\n",
       "      <th>2</th>\n",
       "      <td>Bayern Munich</td>\n",
       "      <td>9</td>\n",
       "    </tr>\n",
       "    <tr>\n",
       "      <th>3</th>\n",
       "      <td>Bochum</td>\n",
       "      <td>3</td>\n",
       "    </tr>\n",
       "    <tr>\n",
       "      <th>4</th>\n",
       "      <td>Braunschweig</td>\n",
       "      <td>4</td>\n",
       "    </tr>\n",
       "  </tbody>\n",
       "</table>\n",
       "</div>"
      ],
      "text/plain": [
       "            team  awaywin\n",
       "0         Aachen        2\n",
       "1       Augsburg        2\n",
       "2  Bayern Munich        9\n",
       "3         Bochum        3\n",
       "4   Braunschweig        4"
      ]
     },
     "execution_count": 18,
     "metadata": {},
     "output_type": "execute_result"
    }
   ],
   "source": [
    "awaywin = cur.execute(\"\"\"SELECT AwayTeam as team, count(FTR) as awaywin\n",
    "                FROM Matches\n",
    "                WHERE Season =2011\n",
    "                AND FTR='A'\n",
    "                AND NOT Div='E0'\n",
    "                GROUP BY AwayTeam\"\"\").fetchall()\n",
    "\n",
    "awaywin_df = pd.DataFrame(awaywin)\n",
    "awaywin_df.columns = [i[0] for i in cur.description]\n",
    "\n",
    "awaywin_df.head()"
   ]
  },
  {
   "cell_type": "code",
   "execution_count": 19,
   "metadata": {},
   "outputs": [
    {
     "data": {
      "text/html": [
       "<div>\n",
       "<style scoped>\n",
       "    .dataframe tbody tr th:only-of-type {\n",
       "        vertical-align: middle;\n",
       "    }\n",
       "\n",
       "    .dataframe tbody tr th {\n",
       "        vertical-align: top;\n",
       "    }\n",
       "\n",
       "    .dataframe thead th {\n",
       "        text-align: right;\n",
       "    }\n",
       "</style>\n",
       "<table border=\"1\" class=\"dataframe\">\n",
       "  <thead>\n",
       "    <tr style=\"text-align: right;\">\n",
       "      <th></th>\n",
       "      <th>team</th>\n",
       "      <th>awayloss</th>\n",
       "    </tr>\n",
       "  </thead>\n",
       "  <tbody>\n",
       "    <tr>\n",
       "      <th>0</th>\n",
       "      <td>Aachen</td>\n",
       "      <td>8</td>\n",
       "    </tr>\n",
       "    <tr>\n",
       "      <th>1</th>\n",
       "      <td>Augsburg</td>\n",
       "      <td>8</td>\n",
       "    </tr>\n",
       "    <tr>\n",
       "      <th>2</th>\n",
       "      <td>Bayern Munich</td>\n",
       "      <td>5</td>\n",
       "    </tr>\n",
       "    <tr>\n",
       "      <th>3</th>\n",
       "      <td>Bochum</td>\n",
       "      <td>10</td>\n",
       "    </tr>\n",
       "    <tr>\n",
       "      <th>4</th>\n",
       "      <td>Braunschweig</td>\n",
       "      <td>6</td>\n",
       "    </tr>\n",
       "  </tbody>\n",
       "</table>\n",
       "</div>"
      ],
      "text/plain": [
       "            team  awayloss\n",
       "0         Aachen         8\n",
       "1       Augsburg         8\n",
       "2  Bayern Munich         5\n",
       "3         Bochum        10\n",
       "4   Braunschweig         6"
      ]
     },
     "execution_count": 19,
     "metadata": {},
     "output_type": "execute_result"
    }
   ],
   "source": [
    "awayloss = cur.execute(\"\"\"SELECT AwayTeam as team, count(FTR) as awayloss\n",
    "                FROM Matches\n",
    "                WHERE Season =2011\n",
    "                AND FTR='H'\n",
    "                AND ((Div = 'D1' OR Div='D2'))\n",
    "                GROUP BY AwayTeam\"\"\").fetchall()\n",
    "\n",
    "awayloss_df = pd.DataFrame(awayloss)\n",
    "awayloss_df.columns = [i[0] for i in cur.description]\n",
    "\n",
    "awayloss_df.head()"
   ]
  },
  {
   "cell_type": "code",
   "execution_count": 20,
   "metadata": {},
   "outputs": [
    {
     "data": {
      "text/html": [
       "<div>\n",
       "<style scoped>\n",
       "    .dataframe tbody tr th:only-of-type {\n",
       "        vertical-align: middle;\n",
       "    }\n",
       "\n",
       "    .dataframe tbody tr th {\n",
       "        vertical-align: top;\n",
       "    }\n",
       "\n",
       "    .dataframe thead th {\n",
       "        text-align: right;\n",
       "    }\n",
       "</style>\n",
       "<table border=\"1\" class=\"dataframe\">\n",
       "  <thead>\n",
       "    <tr style=\"text-align: right;\">\n",
       "      <th></th>\n",
       "      <th>team</th>\n",
       "      <th>awaywin</th>\n",
       "      <th>homewin</th>\n",
       "      <th>totalwin</th>\n",
       "    </tr>\n",
       "  </thead>\n",
       "  <tbody>\n",
       "    <tr>\n",
       "      <th>0</th>\n",
       "      <td>Aachen</td>\n",
       "      <td>2</td>\n",
       "      <td>4</td>\n",
       "      <td>6</td>\n",
       "    </tr>\n",
       "    <tr>\n",
       "      <th>1</th>\n",
       "      <td>Augsburg</td>\n",
       "      <td>2</td>\n",
       "      <td>6</td>\n",
       "      <td>8</td>\n",
       "    </tr>\n",
       "    <tr>\n",
       "      <th>2</th>\n",
       "      <td>Bayern Munich</td>\n",
       "      <td>9</td>\n",
       "      <td>14</td>\n",
       "      <td>23</td>\n",
       "    </tr>\n",
       "    <tr>\n",
       "      <th>3</th>\n",
       "      <td>Bochum</td>\n",
       "      <td>3</td>\n",
       "      <td>7</td>\n",
       "      <td>10</td>\n",
       "    </tr>\n",
       "    <tr>\n",
       "      <th>4</th>\n",
       "      <td>Braunschweig</td>\n",
       "      <td>4</td>\n",
       "      <td>6</td>\n",
       "      <td>10</td>\n",
       "    </tr>\n",
       "  </tbody>\n",
       "</table>\n",
       "</div>"
      ],
      "text/plain": [
       "            team  awaywin  homewin  totalwin\n",
       "0         Aachen        2        4         6\n",
       "1       Augsburg        2        6         8\n",
       "2  Bayern Munich        9       14        23\n",
       "3         Bochum        3        7        10\n",
       "4   Braunschweig        4        6        10"
      ]
     },
     "execution_count": 20,
     "metadata": {},
     "output_type": "execute_result"
    }
   ],
   "source": [
    "wins_df= pd.merge(awaywin_df, homewin_df, on='team')\n",
    "\n",
    "wins_df['totalwin'] = wins_df['homewin']+ wins_df['awaywin']\n",
    "wins_df.head()\n"
   ]
  },
  {
   "cell_type": "code",
   "execution_count": 21,
   "metadata": {},
   "outputs": [
    {
     "data": {
      "text/html": [
       "<div>\n",
       "<style scoped>\n",
       "    .dataframe tbody tr th:only-of-type {\n",
       "        vertical-align: middle;\n",
       "    }\n",
       "\n",
       "    .dataframe tbody tr th {\n",
       "        vertical-align: top;\n",
       "    }\n",
       "\n",
       "    .dataframe thead th {\n",
       "        text-align: right;\n",
       "    }\n",
       "</style>\n",
       "<table border=\"1\" class=\"dataframe\">\n",
       "  <thead>\n",
       "    <tr style=\"text-align: right;\">\n",
       "      <th></th>\n",
       "      <th>team</th>\n",
       "      <th>awayloss</th>\n",
       "      <th>homeloss</th>\n",
       "      <th>totaloss</th>\n",
       "    </tr>\n",
       "  </thead>\n",
       "  <tbody>\n",
       "    <tr>\n",
       "      <th>0</th>\n",
       "      <td>Aachen</td>\n",
       "      <td>8</td>\n",
       "      <td>7</td>\n",
       "      <td>15</td>\n",
       "    </tr>\n",
       "    <tr>\n",
       "      <th>1</th>\n",
       "      <td>Augsburg</td>\n",
       "      <td>8</td>\n",
       "      <td>4</td>\n",
       "      <td>12</td>\n",
       "    </tr>\n",
       "    <tr>\n",
       "      <th>2</th>\n",
       "      <td>Bayern Munich</td>\n",
       "      <td>5</td>\n",
       "      <td>2</td>\n",
       "      <td>7</td>\n",
       "    </tr>\n",
       "    <tr>\n",
       "      <th>3</th>\n",
       "      <td>Bochum</td>\n",
       "      <td>10</td>\n",
       "      <td>7</td>\n",
       "      <td>17</td>\n",
       "    </tr>\n",
       "    <tr>\n",
       "      <th>4</th>\n",
       "      <td>Braunschweig</td>\n",
       "      <td>6</td>\n",
       "      <td>3</td>\n",
       "      <td>9</td>\n",
       "    </tr>\n",
       "  </tbody>\n",
       "</table>\n",
       "</div>"
      ],
      "text/plain": [
       "            team  awayloss  homeloss  totaloss\n",
       "0         Aachen         8         7        15\n",
       "1       Augsburg         8         4        12\n",
       "2  Bayern Munich         5         2         7\n",
       "3         Bochum        10         7        17\n",
       "4   Braunschweig         6         3         9"
      ]
     },
     "execution_count": 21,
     "metadata": {},
     "output_type": "execute_result"
    }
   ],
   "source": [
    "loss_df= pd.merge(awayloss_df, homeloss_df, on='team')\n",
    "\n",
    "loss_df['totaloss'] = loss_df['homeloss']+ loss_df['awayloss']\n",
    "\n",
    "loss_df.head()"
   ]
  },
  {
   "cell_type": "code",
   "execution_count": 26,
   "metadata": {},
   "outputs": [],
   "source": [
    "totalwinloss = pd.merge(wins_df, loss_df, on='team', how='left')"
   ]
  },
  {
   "cell_type": "code",
   "execution_count": 27,
   "metadata": {},
   "outputs": [
    {
     "data": {
      "text/html": [
       "<div>\n",
       "<style scoped>\n",
       "    .dataframe tbody tr th:only-of-type {\n",
       "        vertical-align: middle;\n",
       "    }\n",
       "\n",
       "    .dataframe tbody tr th {\n",
       "        vertical-align: top;\n",
       "    }\n",
       "\n",
       "    .dataframe thead th {\n",
       "        text-align: right;\n",
       "    }\n",
       "</style>\n",
       "<table border=\"1\" class=\"dataframe\">\n",
       "  <thead>\n",
       "    <tr style=\"text-align: right;\">\n",
       "      <th></th>\n",
       "      <th>team</th>\n",
       "      <th>awaywin</th>\n",
       "      <th>homewin</th>\n",
       "      <th>totalwin</th>\n",
       "      <th>awayloss</th>\n",
       "      <th>homeloss</th>\n",
       "      <th>totaloss</th>\n",
       "    </tr>\n",
       "  </thead>\n",
       "  <tbody>\n",
       "    <tr>\n",
       "      <th>0</th>\n",
       "      <td>Aachen</td>\n",
       "      <td>2</td>\n",
       "      <td>4</td>\n",
       "      <td>6</td>\n",
       "      <td>8.0</td>\n",
       "      <td>7.0</td>\n",
       "      <td>15.0</td>\n",
       "    </tr>\n",
       "    <tr>\n",
       "      <th>1</th>\n",
       "      <td>Augsburg</td>\n",
       "      <td>2</td>\n",
       "      <td>6</td>\n",
       "      <td>8</td>\n",
       "      <td>8.0</td>\n",
       "      <td>4.0</td>\n",
       "      <td>12.0</td>\n",
       "    </tr>\n",
       "    <tr>\n",
       "      <th>2</th>\n",
       "      <td>Bayern Munich</td>\n",
       "      <td>9</td>\n",
       "      <td>14</td>\n",
       "      <td>23</td>\n",
       "      <td>5.0</td>\n",
       "      <td>2.0</td>\n",
       "      <td>7.0</td>\n",
       "    </tr>\n",
       "    <tr>\n",
       "      <th>3</th>\n",
       "      <td>Bochum</td>\n",
       "      <td>3</td>\n",
       "      <td>7</td>\n",
       "      <td>10</td>\n",
       "      <td>10.0</td>\n",
       "      <td>7.0</td>\n",
       "      <td>17.0</td>\n",
       "    </tr>\n",
       "    <tr>\n",
       "      <th>4</th>\n",
       "      <td>Braunschweig</td>\n",
       "      <td>4</td>\n",
       "      <td>6</td>\n",
       "      <td>10</td>\n",
       "      <td>6.0</td>\n",
       "      <td>3.0</td>\n",
       "      <td>9.0</td>\n",
       "    </tr>\n",
       "  </tbody>\n",
       "</table>\n",
       "</div>"
      ],
      "text/plain": [
       "            team  awaywin  homewin  totalwin  awayloss  homeloss  totaloss\n",
       "0         Aachen        2        4         6       8.0       7.0      15.0\n",
       "1       Augsburg        2        6         8       8.0       4.0      12.0\n",
       "2  Bayern Munich        9       14        23       5.0       2.0       7.0\n",
       "3         Bochum        3        7        10      10.0       7.0      17.0\n",
       "4   Braunschweig        4        6        10       6.0       3.0       9.0"
      ]
     },
     "execution_count": 27,
     "metadata": {},
     "output_type": "execute_result"
    }
   ],
   "source": [
    "totalwinloss.head()"
   ]
  },
  {
   "cell_type": "markdown",
   "metadata": {},
   "source": [
    "## 4. A histogram visualization of the team's wins and losses for the 2011 season (store the visualization directly)"
   ]
  },
  {
   "cell_type": "code",
   "execution_count": 29,
   "metadata": {},
   "outputs": [
    {
     "data": {
      "text/plain": [
       "array([[<matplotlib.axes._subplots.AxesSubplot object at 0x118b5d208>,\n",
       "        <matplotlib.axes._subplots.AxesSubplot object at 0x119749828>],\n",
       "       [<matplotlib.axes._subplots.AxesSubplot object at 0x118c15dd8>,\n",
       "        <matplotlib.axes._subplots.AxesSubplot object at 0x118f883c8>],\n",
       "       [<matplotlib.axes._subplots.AxesSubplot object at 0x119068978>,\n",
       "        <matplotlib.axes._subplots.AxesSubplot object at 0x119187f28>]],\n",
       "      dtype=object)"
      ]
     },
     "execution_count": 29,
     "metadata": {},
     "output_type": "execute_result"
    },
    {
     "data": {
      "image/png": "[encoded data removed]",
      "text/plain": [
       "<Figure size 720x720 with 6 Axes>"
      ]
     },
     "metadata": {
      "needs_background": "light"
     },
     "output_type": "display_data"
    }
   ],
   "source": [
    "totalwinloss.hist(figsize=(10,10))"
   ]
  },
  {
   "cell_type": "markdown",
   "metadata": {},
   "source": [
    "### API: Weather Data"
   ]
  },
  {
   "cell_type": "code",
   "execution_count": null,
   "metadata": {},
   "outputs": [],
   "source": [
    "!pip install python-dotenv"
   ]
  },
  {
   "cell_type": "code",
   "execution_count": 61,
   "metadata": {},
   "outputs": [
    {
     "name": "stdout",
     "output_type": "stream",
     "text": [
      "The autoreload extension is already loaded. To reload it, use:\n",
      "  %reload_ext autoreload\n"
     ]
    }
   ],
   "source": [
    "# lat 52.5200, long 13.4050 for Berling\n",
    "# [YYYY]-[MM]-[DD]T[HH]:[MM]:[SS][timezone]. timezone\n",
    "\n",
    "%load_ext autoreload\n",
    "%autoreload 2\n",
    "\n",
    "from dotenv import load_dotenv\n",
    "import os\n",
    "\n",
    "load_dotenv()\n",
    "\n",
    "class WeatherGetter():\n",
    "\n",
    "    def __init__(self):\n",
    "        # Let's set our secrets and keys from the .env file\n",
    "        # as environment variables.\n",
    "        self.BASE_URL = 'https://api.darksky.net'\n",
    "        self.token = os.getenv('DARKSKY_KEY')\n",
    "\n",
    "        if len(self.token) == 0:\n",
    "            raise ValueError('Missing API key!')\n",
    "    \n",
    "    def getForecast(self, lat, long, time):\n",
    "        url = 'https://api.darksky.net/forecast/{}/{},{},{}?exclude=currently,alerts,flags,minutely,hourly'.format(self.token,lat,long,time)\n",
    "        data = requests.get(url)\n",
    "        return data.json()\n",
    "\n",
    "\n",
    "\n",
    "call = WeatherGetter()\n",
    "                           \n",
    "# darkweather.getForecast(52.5200,13.4050,1323626400)\n",
    "\n",
    "first_call = call.getForecast(52.5200,13.4050,1323626400)"
   ]
  },
  {
   "cell_type": "code",
   "execution_count": 71,
   "metadata": {},
   "outputs": [],
   "source": [
    "dates_weather = df_matches['Date'].unique()"
   ]
  },
  {
   "cell_type": "code",
   "execution_count": 75,
   "metadata": {},
   "outputs": [],
   "source": [
    "weather_json=[]\n",
    "\n",
    "for date in dates_weather:\n",
    "    weather = call.getForecast(52.5200,13.4050,date)\n",
    "    weather_json.append(weather)\n"
   ]
  },
  {
   "cell_type": "code",
   "execution_count": 76,
   "metadata": {},
   "outputs": [
    {
     "data": {
      "text/plain": [
       "[{'code': 400, 'error': 'Poorly formatted request'},\n",
       " {'code': 400, 'error': 'Poorly formatted request'},\n",
       " {'code': 400, 'error': 'Poorly formatted request'},\n",
       " {'code': 400, 'error': 'Poorly formatted request'},\n",
       " {'code': 400, 'error': 'Poorly formatted request'},\n",
       " {'code': 400, 'error': 'Poorly formatted request'},\n",
       " {'code': 400, 'error': 'Poorly formatted request'},\n",
       " {'code': 400, 'error': 'Poorly formatted request'},\n",
       " {'code': 400, 'error': 'Poorly formatted request'},\n",
       " {'code': 400, 'error': 'Poorly formatted request'},\n",
       " {'code': 400, 'error': 'Poorly formatted request'},\n",
       " {'code': 400, 'error': 'Poorly formatted request'},\n",
       " {'code': 400, 'error': 'Poorly formatted request'},\n",
       " {'code': 400, 'error': 'Poorly formatted request'},\n",
       " {'code': 400, 'error': 'Poorly formatted request'},\n",
       " {'code': 400, 'error': 'Poorly formatted request'},\n",
       " {'code': 400, 'error': 'Poorly formatted request'},\n",
       " {'code': 400, 'error': 'Poorly formatted request'},\n",
       " {'code': 400, 'error': 'Poorly formatted request'},\n",
       " {'code': 400, 'error': 'Poorly formatted request'},\n",
       " {'code': 400, 'error': 'Poorly formatted request'},\n",
       " {'code': 400, 'error': 'Poorly formatted request'},\n",
       " {'code': 400, 'error': 'Poorly formatted request'},\n",
       " {'code': 400, 'error': 'Poorly formatted request'},\n",
       " {'code': 400, 'error': 'Poorly formatted request'},\n",
       " {'code': 400, 'error': 'Poorly formatted request'},\n",
       " {'code': 400, 'error': 'Poorly formatted request'},\n",
       " {'code': 400, 'error': 'Poorly formatted request'},\n",
       " {'code': 400, 'error': 'Poorly formatted request'},\n",
       " {'code': 400, 'error': 'Poorly formatted request'},\n",
       " {'code': 400, 'error': 'Poorly formatted request'},\n",
       " {'code': 400, 'error': 'Poorly formatted request'},\n",
       " {'code': 400, 'error': 'Poorly formatted request'},\n",
       " {'code': 400, 'error': 'Poorly formatted request'},\n",
       " {'code': 400, 'error': 'Poorly formatted request'},\n",
       " {'code': 400, 'error': 'Poorly formatted request'},\n",
       " {'code': 400, 'error': 'Poorly formatted request'},\n",
       " {'code': 400, 'error': 'Poorly formatted request'},\n",
       " {'code': 400, 'error': 'Poorly formatted request'},\n",
       " {'code': 400, 'error': 'Poorly formatted request'},\n",
       " {'code': 400, 'error': 'Poorly formatted request'},\n",
       " {'code': 400, 'error': 'Poorly formatted request'},\n",
       " {'code': 400, 'error': 'Poorly formatted request'},\n",
       " {'code': 400, 'error': 'Poorly formatted request'},\n",
       " {'code': 400, 'error': 'Poorly formatted request'},\n",
       " {'code': 400, 'error': 'Poorly formatted request'},\n",
       " {'code': 400, 'error': 'Poorly formatted request'},\n",
       " {'code': 400, 'error': 'Poorly formatted request'},\n",
       " {'code': 400, 'error': 'Poorly formatted request'},\n",
       " {'code': 400, 'error': 'Poorly formatted request'},\n",
       " {'code': 400, 'error': 'Poorly formatted request'},\n",
       " {'code': 400, 'error': 'Poorly formatted request'},\n",
       " {'code': 400, 'error': 'Poorly formatted request'},\n",
       " {'code': 400, 'error': 'Poorly formatted request'},\n",
       " {'code': 400, 'error': 'Poorly formatted request'},\n",
       " {'code': 400, 'error': 'Poorly formatted request'},\n",
       " {'code': 400, 'error': 'Poorly formatted request'},\n",
       " {'code': 400, 'error': 'Poorly formatted request'},\n",
       " {'code': 400, 'error': 'Poorly formatted request'},\n",
       " {'code': 400, 'error': 'Poorly formatted request'},\n",
       " {'code': 400, 'error': 'Poorly formatted request'},\n",
       " {'code': 400, 'error': 'Poorly formatted request'},\n",
       " {'code': 400, 'error': 'Poorly formatted request'},\n",
       " {'code': 400, 'error': 'Poorly formatted request'},\n",
       " {'code': 400, 'error': 'Poorly formatted request'},\n",
       " {'code': 400, 'error': 'Poorly formatted request'},\n",
       " {'code': 400, 'error': 'Poorly formatted request'},\n",
       " {'code': 400, 'error': 'Poorly formatted request'},\n",
       " {'code': 400, 'error': 'Poorly formatted request'},\n",
       " {'code': 400, 'error': 'Poorly formatted request'},\n",
       " {'code': 400, 'error': 'Poorly formatted request'},\n",
       " {'code': 400, 'error': 'Poorly formatted request'},\n",
       " {'code': 400, 'error': 'Poorly formatted request'},\n",
       " {'code': 400, 'error': 'Poorly formatted request'},\n",
       " {'code': 400, 'error': 'Poorly formatted request'},\n",
       " {'code': 400, 'error': 'Poorly formatted request'},\n",
       " {'code': 400, 'error': 'Poorly formatted request'},\n",
       " {'code': 400, 'error': 'Poorly formatted request'},\n",
       " {'code': 400, 'error': 'Poorly formatted request'},\n",
       " {'code': 400, 'error': 'Poorly formatted request'},\n",
       " {'code': 400, 'error': 'Poorly formatted request'},\n",
       " {'code': 400, 'error': 'Poorly formatted request'},\n",
       " {'code': 400, 'error': 'Poorly formatted request'},\n",
       " {'code': 400, 'error': 'Poorly formatted request'},\n",
       " {'code': 400, 'error': 'Poorly formatted request'},\n",
       " {'code': 400, 'error': 'Poorly formatted request'},\n",
       " {'code': 400, 'error': 'Poorly formatted request'},\n",
       " {'code': 400, 'error': 'Poorly formatted request'},\n",
       " {'code': 400, 'error': 'Poorly formatted request'},\n",
       " {'code': 400, 'error': 'Poorly formatted request'},\n",
       " {'code': 400, 'error': 'Poorly formatted request'},\n",
       " {'code': 400, 'error': 'Poorly formatted request'},\n",
       " {'code': 400, 'error': 'Poorly formatted request'},\n",
       " {'code': 400, 'error': 'Poorly formatted request'},\n",
       " {'code': 400, 'error': 'Poorly formatted request'},\n",
       " {'code': 400, 'error': 'Poorly formatted request'},\n",
       " {'code': 400, 'error': 'Poorly formatted request'},\n",
       " {'code': 400, 'error': 'Poorly formatted request'},\n",
       " {'code': 400, 'error': 'Poorly formatted request'},\n",
       " {'code': 400, 'error': 'Poorly formatted request'},\n",
       " {'code': 400, 'error': 'Poorly formatted request'},\n",
       " {'code': 400, 'error': 'Poorly formatted request'},\n",
       " {'code': 400, 'error': 'Poorly formatted request'},\n",
       " {'code': 400, 'error': 'Poorly formatted request'},\n",
       " {'code': 400, 'error': 'Poorly formatted request'},\n",
       " {'code': 400, 'error': 'Poorly formatted request'},\n",
       " {'code': 400, 'error': 'Poorly formatted request'},\n",
       " {'code': 400, 'error': 'Poorly formatted request'},\n",
       " {'code': 400, 'error': 'Poorly formatted request'},\n",
       " {'code': 400, 'error': 'Poorly formatted request'},\n",
       " {'code': 400, 'error': 'Poorly formatted request'},\n",
       " {'code': 400, 'error': 'Poorly formatted request'},\n",
       " {'code': 400, 'error': 'Poorly formatted request'},\n",
       " {'code': 400, 'error': 'Poorly formatted request'},\n",
       " {'code': 400, 'error': 'Poorly formatted request'},\n",
       " {'code': 400, 'error': 'Poorly formatted request'},\n",
       " {'code': 400, 'error': 'Poorly formatted request'},\n",
       " {'code': 400, 'error': 'Poorly formatted request'},\n",
       " {'code': 400, 'error': 'Poorly formatted request'},\n",
       " {'code': 400, 'error': 'Poorly formatted request'},\n",
       " {'code': 400, 'error': 'Poorly formatted request'},\n",
       " {'code': 400, 'error': 'Poorly formatted request'},\n",
       " {'code': 400, 'error': 'Poorly formatted request'},\n",
       " {'code': 400, 'error': 'Poorly formatted request'},\n",
       " {'code': 400, 'error': 'Poorly formatted request'},\n",
       " {'code': 400, 'error': 'Poorly formatted request'},\n",
       " {'code': 400, 'error': 'Poorly formatted request'},\n",
       " {'code': 400, 'error': 'Poorly formatted request'},\n",
       " {'code': 400, 'error': 'Poorly formatted request'},\n",
       " {'code': 400, 'error': 'Poorly formatted request'},\n",
       " {'code': 400, 'error': 'Poorly formatted request'},\n",
       " {'code': 400, 'error': 'Poorly formatted request'},\n",
       " {'code': 400, 'error': 'Poorly formatted request'},\n",
       " {'code': 400, 'error': 'Poorly formatted request'},\n",
       " {'code': 400, 'error': 'Poorly formatted request'},\n",
       " {'code': 400, 'error': 'Poorly formatted request'}]"
      ]
     },
     "execution_count": 76,
     "metadata": {},
     "output_type": "execute_result"
    }
   ],
   "source": [
    "weather_json"
   ]
  },
  {
   "cell_type": "code",
   "execution_count": null,
   "metadata": {},
   "outputs": [],
   "source": []
  },
  {
   "cell_type": "code",
   "execution_count": null,
   "metadata": {},
   "outputs": [],
   "source": []
  }
 ],
 "metadata": {
  "kernelspec": {
   "display_name": "Python 3",
   "language": "python",
   "name": "python3"
  },
  "language_info": {
   "codemirror_mode": {
    "name": "ipython",
    "version": 3
   },
   "file_extension": ".py",
   "mimetype": "text/x-python",
   "name": "python",
   "nbconvert_exporter": "python",
   "pygments_lexer": "ipython3",
   "version": "3.7.3"
  }
 },
 "nbformat": 4,
 "nbformat_minor": 4
}
