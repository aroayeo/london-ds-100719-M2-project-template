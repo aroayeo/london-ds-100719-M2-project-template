{
 "cells": [
  {
   "cell_type": "code",
   "execution_count": 3,
   "metadata": {},
   "outputs": [],
   "source": [
    "import sqlite3 \n",
    "import pandas as pd\n",
    "import matplotlib.pyplot as plt\n",
    "%matplotlib inline\n",
    "\n",
    "import requests\n",
    "import numpy as np\n",
    "from datetime import date, datetime\n",
    "import time\n",
    "import pymongo\n",
    "import seaborn as sns\n"
   ]
  },
  {
   "cell_type": "code",
   "execution_count": 2,
   "metadata": {},
   "outputs": [
    {
     "name": "stdout",
     "output_type": "stream",
     "text": [
      "Collecting pandasql\n",
      "  Using cached https://files.pythonhosted.org/packages/6b/c4/ee4096ffa2eeeca0c749b26f0371bd26aa5c8b611c43de99a4f86d3de0a7/pandasql-0.7.3.tar.gz\n",
      "Requirement already satisfied: numpy in /Users/flatironschool/anaconda3/lib/python3.7/site-packages (from pandasql) (1.16.4)\n",
      "Requirement already satisfied: pandas in /Users/flatironschool/anaconda3/lib/python3.7/site-packages (from pandasql) (0.24.2)\n",
      "Requirement already satisfied: sqlalchemy in /Users/flatironschool/anaconda3/lib/python3.7/site-packages (from pandasql) (1.3.5)\n",
      "Requirement already satisfied: pytz>=2011k in /Users/flatironschool/anaconda3/lib/python3.7/site-packages (from pandas->pandasql) (2019.1)\n",
      "Requirement already satisfied: python-dateutil>=2.5.0 in /Users/flatironschool/anaconda3/lib/python3.7/site-packages (from pandas->pandasql) (2.8.0)\n",
      "Requirement already satisfied: six>=1.5 in /Users/flatironschool/anaconda3/lib/python3.7/site-packages (from python-dateutil>=2.5.0->pandas->pandasql) (1.12.0)\n",
      "Building wheels for collected packages: pandasql\n",
      "  Building wheel for pandasql (setup.py) ... \u001b[?25ldone\n",
      "\u001b[?25h  Stored in directory: /Users/flatironschool/Library/Caches/pip/wheels/53/6c/18/b87a2e5fa8a82e9c026311de56210b8d1c01846e18a9607fc9\n",
      "Successfully built pandasql\n",
      "Installing collected packages: pandasql\n",
      "Successfully installed pandasql-0.7.3\n"
     ]
    }
   ],
   "source": [
    "!pip install pandasql"
   ]
  },
  {
   "cell_type": "code",
   "execution_count": 49,
   "metadata": {},
   "outputs": [],
   "source": [
    "#connect to the database and create a cursor\n",
    "con = sqlite3.connect('database.sqlite')\n",
    "cur = con.cursor()"
   ]
  },
  {
   "cell_type": "code",
   "execution_count": 50,
   "metadata": {},
   "outputs": [
    {
     "data": {
      "text/plain": [
       "[('Matches',),\n",
       " ('Teams',),\n",
       " ('Teams_in_Matches',),\n",
       " ('Unique_Teams',),\n",
       " ('sqlite_sequence',)]"
      ]
     },
     "execution_count": 50,
     "metadata": {},
     "output_type": "execute_result"
    }
   ],
   "source": [
    "#fecth all the table names\n",
    "query = \"\"\"SELECT name FROM sqlite_master\n",
    "         WHERE type='table'\n",
    "         ORDER BY name\"\"\"\n",
    "\n",
    "cur.execute(query).fetchall()"
   ]
  },
  {
   "cell_type": "code",
   "execution_count": 51,
   "metadata": {},
   "outputs": [],
   "source": [
    "#create a dataframe from the db table filtering for 2011 season and German League\n",
    "\n",
    "matches = cur.execute(\"\"\"select *\n",
    "            from Matches \n",
    "            where Season = 2011\n",
    "            AND ((Div = 'D1' OR Div='D2'))\"\"\").fetchall()\n",
    "\n",
    "df_matches = pd.DataFrame(matches)\n",
    "df_matches. columns = [i[0] for i in cur.description]\n",
    "\n",
    "\n",
    "dates = df_matches['Date'].unique()"
   ]
  },
  {
   "cell_type": "code",
   "execution_count": 53,
   "metadata": {},
   "outputs": [],
   "source": [
    "full_df = cur.execute(\"\"\"\n",
    "  SELECT\n",
    "         ut.Unique_Team_ID, ut.TeamName,\n",
    "                 sum(case\n",
    "                       when ut.TeamName=m.HomeTeam\n",
    "                       then m.FTHG\n",
    "                       end) as goalshome,\n",
    "               sum( case\n",
    "                   when ut.TeamName=m.AwayTeam\n",
    "                   then m.FTAG\n",
    "                   else 0\n",
    "                   end) as goalsaway,\n",
    "               count(case\n",
    "                    when ut.TeamName=m.HomeTeam\n",
    "                    and m.FTR='H'\n",
    "                    then 1 else NULL END\n",
    "                    ) as homewins,\n",
    "               count(case\n",
    "                    when ut.TeamName=m.HomeTeam\n",
    "                    and m.FTR='A'\n",
    "                    then 1 else NULL END\n",
    "                     ) as homelosses,\n",
    "               count(case\n",
    "                    when ut.TeamName=m.AwayTeam\n",
    "                    and m.FTR='A'\n",
    "                    then 1 else NULL END\n",
    "                    ) as awaywis,\n",
    "               count(case\n",
    "                     when ut.TeamName=m.AwayTeam\n",
    "                     and m.FTR='H'\n",
    "                     then 1 else NULL END\n",
    "                     ) as awaylosses\n",
    "               from Unique_Teams ut\n",
    "                   join Teams_in_Matches tm\n",
    "                       on ut.Unique_Team_ID=tm.Unique_Team_ID\n",
    "                   join Matches m\n",
    "                       on m.Match_ID=tm.Match_ID\n",
    "               where m.Season = 2011\n",
    "                   and ((Div = 'D1' OR Div='D2'))\n",
    "               group by ut.Unique_Team_ID\n",
    "               order by ut.TeamName;\n",
    "\"\"\").fetchall()\n"
   ]
  },
  {
   "cell_type": "markdown",
   "metadata": {},
   "source": [
    "## 1. The name of the team"
   ]
  },
  {
   "cell_type": "code",
   "execution_count": 5,
   "metadata": {},
   "outputs": [],
   "source": [
    "team_names = cur.execute(\"\"\" SELECT *\n",
    "                FROM Unique_Teams\n",
    "                \"\"\").fetchall()\n"
   ]
  },
  {
   "cell_type": "code",
   "execution_count": 6,
   "metadata": {},
   "outputs": [],
   "source": [
    "team_names = pd.DataFrame(team_names)\n",
    "team_names.columns = [i[0] for i in cur.description]"
   ]
  },
  {
   "cell_type": "code",
   "execution_count": 7,
   "metadata": {},
   "outputs": [
    {
     "data": {
      "text/plain": [
       "0    Bayern Munich\n",
       "1         Dortmund\n",
       "2       Leverkusen\n",
       "3       RB Leipzig\n",
       "4       Schalke 04\n",
       "Name: TeamName, dtype: object"
      ]
     },
     "execution_count": 7,
     "metadata": {},
     "output_type": "execute_result"
    }
   ],
   "source": [
    "team_names['TeamName'].head()"
   ]
  },
  {
   "cell_type": "markdown",
   "metadata": {},
   "source": [
    "## 2. The total number of goals scored by the team during the 2011 season"
   ]
  },
  {
   "cell_type": "code",
   "execution_count": 8,
   "metadata": {},
   "outputs": [],
   "source": [
    "#make two tables, one for the hometeams goals and awayteams goals and then merge them\n",
    "\n",
    "home = cur.execute(\"\"\"SELECT HomeTeam as team, sum(FTHG) as home\n",
    "                FROM Matches\n",
    "                WHERE Season = 2011\n",
    "                AND ((Div = 'D1' OR Div='D2'))\n",
    "                GROUP BY HomeTeam\"\"\").fetchall()\n",
    "\n",
    "\n",
    "home_df = pd.DataFrame(home)\n",
    "home_df.columns = [i[0] for i in cur.description]\n",
    "\n",
    "away = cur.execute(\"\"\"SELECT AwayTeam as team, sum(FTAG) as away \n",
    "                FROM Matches\n",
    "                WHERE Season =2011\n",
    "                AND ((Div = 'D1' OR Div='D2'))\n",
    "                GROUP BY AwayTeam\"\"\").fetchall()\n",
    "away_df = pd.DataFrame(away)\n",
    "away_df.columns = [i[0] for i in cur.description]\n"
   ]
  },
  {
   "cell_type": "code",
   "execution_count": 9,
   "metadata": {},
   "outputs": [
    {
     "data": {
      "text/html": [
       "<div>\n",
       "<style scoped>\n",
       "    .dataframe tbody tr th:only-of-type {\n",
       "        vertical-align: middle;\n",
       "    }\n",
       "\n",
       "    .dataframe tbody tr th {\n",
       "        vertical-align: top;\n",
       "    }\n",
       "\n",
       "    .dataframe thead th {\n",
       "        text-align: right;\n",
       "    }\n",
       "</style>\n",
       "<table border=\"1\" class=\"dataframe\">\n",
       "  <thead>\n",
       "    <tr style=\"text-align: right;\">\n",
       "      <th></th>\n",
       "      <th>team</th>\n",
       "      <th>away</th>\n",
       "      <th>home</th>\n",
       "      <th>total_goals</th>\n",
       "    </tr>\n",
       "  </thead>\n",
       "  <tbody>\n",
       "    <tr>\n",
       "      <th>0</th>\n",
       "      <td>Aachen</td>\n",
       "      <td>15</td>\n",
       "      <td>15</td>\n",
       "      <td>30</td>\n",
       "    </tr>\n",
       "    <tr>\n",
       "      <th>1</th>\n",
       "      <td>Augsburg</td>\n",
       "      <td>16</td>\n",
       "      <td>20</td>\n",
       "      <td>36</td>\n",
       "    </tr>\n",
       "    <tr>\n",
       "      <th>2</th>\n",
       "      <td>Bayern Munich</td>\n",
       "      <td>28</td>\n",
       "      <td>49</td>\n",
       "      <td>77</td>\n",
       "    </tr>\n",
       "    <tr>\n",
       "      <th>3</th>\n",
       "      <td>Bochum</td>\n",
       "      <td>18</td>\n",
       "      <td>23</td>\n",
       "      <td>41</td>\n",
       "    </tr>\n",
       "    <tr>\n",
       "      <th>4</th>\n",
       "      <td>Braunschweig</td>\n",
       "      <td>16</td>\n",
       "      <td>21</td>\n",
       "      <td>37</td>\n",
       "    </tr>\n",
       "  </tbody>\n",
       "</table>\n",
       "</div>"
      ],
      "text/plain": [
       "            team  away  home  total_goals\n",
       "0         Aachen    15    15           30\n",
       "1       Augsburg    16    20           36\n",
       "2  Bayern Munich    28    49           77\n",
       "3         Bochum    18    23           41\n",
       "4   Braunschweig    16    21           37"
      ]
     },
     "execution_count": 9,
     "metadata": {},
     "output_type": "execute_result"
    }
   ],
   "source": [
    "#merge the two dataframes above into one table and create a new column for the total number of goals\n",
    "\n",
    "goals_df= pd.merge(away_df, home_df, on='team')\n",
    "\n",
    "goals_df['total_goals'] = goals_df['home']+ goals_df['away']\n",
    "\n",
    "goals_df.head()"
   ]
  },
  {
   "cell_type": "markdown",
   "metadata": {},
   "source": [
    "## 3. The total number of wins the team earned during the 2011 season"
   ]
  },
  {
   "cell_type": "code",
   "execution_count": 10,
   "metadata": {},
   "outputs": [
    {
     "data": {
      "text/html": [
       "<div>\n",
       "<style scoped>\n",
       "    .dataframe tbody tr th:only-of-type {\n",
       "        vertical-align: middle;\n",
       "    }\n",
       "\n",
       "    .dataframe tbody tr th {\n",
       "        vertical-align: top;\n",
       "    }\n",
       "\n",
       "    .dataframe thead th {\n",
       "        text-align: right;\n",
       "    }\n",
       "</style>\n",
       "<table border=\"1\" class=\"dataframe\">\n",
       "  <thead>\n",
       "    <tr style=\"text-align: right;\">\n",
       "      <th></th>\n",
       "      <th>team</th>\n",
       "      <th>homewin</th>\n",
       "    </tr>\n",
       "  </thead>\n",
       "  <tbody>\n",
       "    <tr>\n",
       "      <th>0</th>\n",
       "      <td>Aachen</td>\n",
       "      <td>4</td>\n",
       "    </tr>\n",
       "    <tr>\n",
       "      <th>1</th>\n",
       "      <td>Augsburg</td>\n",
       "      <td>6</td>\n",
       "    </tr>\n",
       "    <tr>\n",
       "      <th>2</th>\n",
       "      <td>Bayern Munich</td>\n",
       "      <td>14</td>\n",
       "    </tr>\n",
       "    <tr>\n",
       "      <th>3</th>\n",
       "      <td>Bochum</td>\n",
       "      <td>7</td>\n",
       "    </tr>\n",
       "    <tr>\n",
       "      <th>4</th>\n",
       "      <td>Braunschweig</td>\n",
       "      <td>6</td>\n",
       "    </tr>\n",
       "  </tbody>\n",
       "</table>\n",
       "</div>"
      ],
      "text/plain": [
       "            team  homewin\n",
       "0         Aachen        4\n",
       "1       Augsburg        6\n",
       "2  Bayern Munich       14\n",
       "3         Bochum        7\n",
       "4   Braunschweig        6"
      ]
     },
     "execution_count": 10,
     "metadata": {},
     "output_type": "execute_result"
    }
   ],
   "source": [
    "#create a table for each combination, home team-win, home team-losses, away team-win, away team-losses\n",
    "\n",
    "homewin = cur.execute(\"\"\"SELECT HomeTeam as team, count(FTR) as homewin\n",
    "                FROM Matches\n",
    "                WHERE Season = 2011\n",
    "                AND FTR='H'\n",
    "                AND ((Div = 'D1' OR Div='D2'))\n",
    "                GROUP BY HomeTeam\"\"\").fetchall()\n",
    "\n",
    "\n",
    "homewin_df = pd.DataFrame(homewin)\n",
    "homewin_df.columns = [i[0] for i in cur.description]\n",
    "\n",
    "\n",
    "homewin_df.head()"
   ]
  },
  {
   "cell_type": "code",
   "execution_count": 11,
   "metadata": {},
   "outputs": [
    {
     "data": {
      "text/html": [
       "<div>\n",
       "<style scoped>\n",
       "    .dataframe tbody tr th:only-of-type {\n",
       "        vertical-align: middle;\n",
       "    }\n",
       "\n",
       "    .dataframe tbody tr th {\n",
       "        vertical-align: top;\n",
       "    }\n",
       "\n",
       "    .dataframe thead th {\n",
       "        text-align: right;\n",
       "    }\n",
       "</style>\n",
       "<table border=\"1\" class=\"dataframe\">\n",
       "  <thead>\n",
       "    <tr style=\"text-align: right;\">\n",
       "      <th></th>\n",
       "      <th>team</th>\n",
       "      <th>homeloss</th>\n",
       "    </tr>\n",
       "  </thead>\n",
       "  <tbody>\n",
       "    <tr>\n",
       "      <th>0</th>\n",
       "      <td>Aachen</td>\n",
       "      <td>7</td>\n",
       "    </tr>\n",
       "    <tr>\n",
       "      <th>1</th>\n",
       "      <td>Augsburg</td>\n",
       "      <td>4</td>\n",
       "    </tr>\n",
       "    <tr>\n",
       "      <th>2</th>\n",
       "      <td>Bayern Munich</td>\n",
       "      <td>2</td>\n",
       "    </tr>\n",
       "    <tr>\n",
       "      <th>3</th>\n",
       "      <td>Bochum</td>\n",
       "      <td>7</td>\n",
       "    </tr>\n",
       "    <tr>\n",
       "      <th>4</th>\n",
       "      <td>Braunschweig</td>\n",
       "      <td>3</td>\n",
       "    </tr>\n",
       "  </tbody>\n",
       "</table>\n",
       "</div>"
      ],
      "text/plain": [
       "            team  homeloss\n",
       "0         Aachen         7\n",
       "1       Augsburg         4\n",
       "2  Bayern Munich         2\n",
       "3         Bochum         7\n",
       "4   Braunschweig         3"
      ]
     },
     "execution_count": 11,
     "metadata": {},
     "output_type": "execute_result"
    }
   ],
   "source": [
    "homeloss = cur.execute(\"\"\"SELECT HomeTeam as team, count(FTR) as homeloss \n",
    "                FROM Matches\n",
    "                WHERE Season = 2011\n",
    "                AND FTR='A'\n",
    "                AND ((Div = 'D1' OR Div='D2'))\n",
    "                GROUP BY HomeTeam\"\"\").fetchall()\n",
    "\n",
    "\n",
    "homeloss_df = pd.DataFrame(homeloss)\n",
    "homeloss_df.columns = [i[0] for i in cur.description]\n",
    "\n",
    "\n",
    "homeloss_df.head()"
   ]
  },
  {
   "cell_type": "code",
   "execution_count": 12,
   "metadata": {},
   "outputs": [
    {
     "data": {
      "text/html": [
       "<div>\n",
       "<style scoped>\n",
       "    .dataframe tbody tr th:only-of-type {\n",
       "        vertical-align: middle;\n",
       "    }\n",
       "\n",
       "    .dataframe tbody tr th {\n",
       "        vertical-align: top;\n",
       "    }\n",
       "\n",
       "    .dataframe thead th {\n",
       "        text-align: right;\n",
       "    }\n",
       "</style>\n",
       "<table border=\"1\" class=\"dataframe\">\n",
       "  <thead>\n",
       "    <tr style=\"text-align: right;\">\n",
       "      <th></th>\n",
       "      <th>team</th>\n",
       "      <th>awaywin</th>\n",
       "    </tr>\n",
       "  </thead>\n",
       "  <tbody>\n",
       "    <tr>\n",
       "      <th>0</th>\n",
       "      <td>Aachen</td>\n",
       "      <td>2</td>\n",
       "    </tr>\n",
       "    <tr>\n",
       "      <th>1</th>\n",
       "      <td>Augsburg</td>\n",
       "      <td>2</td>\n",
       "    </tr>\n",
       "    <tr>\n",
       "      <th>2</th>\n",
       "      <td>Bayern Munich</td>\n",
       "      <td>9</td>\n",
       "    </tr>\n",
       "    <tr>\n",
       "      <th>3</th>\n",
       "      <td>Bochum</td>\n",
       "      <td>3</td>\n",
       "    </tr>\n",
       "    <tr>\n",
       "      <th>4</th>\n",
       "      <td>Braunschweig</td>\n",
       "      <td>4</td>\n",
       "    </tr>\n",
       "  </tbody>\n",
       "</table>\n",
       "</div>"
      ],
      "text/plain": [
       "            team  awaywin\n",
       "0         Aachen        2\n",
       "1       Augsburg        2\n",
       "2  Bayern Munich        9\n",
       "3         Bochum        3\n",
       "4   Braunschweig        4"
      ]
     },
     "execution_count": 12,
     "metadata": {},
     "output_type": "execute_result"
    }
   ],
   "source": [
    "awaywin = cur.execute(\"\"\"SELECT AwayTeam as team, count(FTR) as awaywin\n",
    "                FROM Matches\n",
    "                WHERE Season =2011\n",
    "                AND FTR='A'\n",
    "                AND NOT Div='E0'\n",
    "                GROUP BY AwayTeam\"\"\").fetchall()\n",
    "\n",
    "awaywin_df = pd.DataFrame(awaywin)\n",
    "awaywin_df.columns = [i[0] for i in cur.description]\n",
    "\n",
    "awaywin_df.head()"
   ]
  },
  {
   "cell_type": "code",
   "execution_count": 13,
   "metadata": {},
   "outputs": [
    {
     "data": {
      "text/html": [
       "<div>\n",
       "<style scoped>\n",
       "    .dataframe tbody tr th:only-of-type {\n",
       "        vertical-align: middle;\n",
       "    }\n",
       "\n",
       "    .dataframe tbody tr th {\n",
       "        vertical-align: top;\n",
       "    }\n",
       "\n",
       "    .dataframe thead th {\n",
       "        text-align: right;\n",
       "    }\n",
       "</style>\n",
       "<table border=\"1\" class=\"dataframe\">\n",
       "  <thead>\n",
       "    <tr style=\"text-align: right;\">\n",
       "      <th></th>\n",
       "      <th>team</th>\n",
       "      <th>awayloss</th>\n",
       "    </tr>\n",
       "  </thead>\n",
       "  <tbody>\n",
       "    <tr>\n",
       "      <th>0</th>\n",
       "      <td>Aachen</td>\n",
       "      <td>8</td>\n",
       "    </tr>\n",
       "    <tr>\n",
       "      <th>1</th>\n",
       "      <td>Augsburg</td>\n",
       "      <td>8</td>\n",
       "    </tr>\n",
       "    <tr>\n",
       "      <th>2</th>\n",
       "      <td>Bayern Munich</td>\n",
       "      <td>5</td>\n",
       "    </tr>\n",
       "    <tr>\n",
       "      <th>3</th>\n",
       "      <td>Bochum</td>\n",
       "      <td>10</td>\n",
       "    </tr>\n",
       "    <tr>\n",
       "      <th>4</th>\n",
       "      <td>Braunschweig</td>\n",
       "      <td>6</td>\n",
       "    </tr>\n",
       "  </tbody>\n",
       "</table>\n",
       "</div>"
      ],
      "text/plain": [
       "            team  awayloss\n",
       "0         Aachen         8\n",
       "1       Augsburg         8\n",
       "2  Bayern Munich         5\n",
       "3         Bochum        10\n",
       "4   Braunschweig         6"
      ]
     },
     "execution_count": 13,
     "metadata": {},
     "output_type": "execute_result"
    }
   ],
   "source": [
    "awayloss = cur.execute(\"\"\"SELECT AwayTeam as team, count(FTR) as awayloss\n",
    "                FROM Matches\n",
    "                WHERE Season =2011\n",
    "                AND FTR='H'\n",
    "                AND ((Div = 'D1' OR Div='D2'))\n",
    "                GROUP BY AwayTeam\"\"\").fetchall()\n",
    "\n",
    "awayloss_df = pd.DataFrame(awayloss)\n",
    "awayloss_df.columns = [i[0] for i in cur.description]\n",
    "\n",
    "awayloss_df.head()"
   ]
  },
  {
   "cell_type": "code",
   "execution_count": 14,
   "metadata": {},
   "outputs": [
    {
     "data": {
      "text/html": [
       "<div>\n",
       "<style scoped>\n",
       "    .dataframe tbody tr th:only-of-type {\n",
       "        vertical-align: middle;\n",
       "    }\n",
       "\n",
       "    .dataframe tbody tr th {\n",
       "        vertical-align: top;\n",
       "    }\n",
       "\n",
       "    .dataframe thead th {\n",
       "        text-align: right;\n",
       "    }\n",
       "</style>\n",
       "<table border=\"1\" class=\"dataframe\">\n",
       "  <thead>\n",
       "    <tr style=\"text-align: right;\">\n",
       "      <th></th>\n",
       "      <th>team</th>\n",
       "      <th>awaywin</th>\n",
       "      <th>homewin</th>\n",
       "      <th>totalwin</th>\n",
       "    </tr>\n",
       "  </thead>\n",
       "  <tbody>\n",
       "    <tr>\n",
       "      <th>0</th>\n",
       "      <td>Aachen</td>\n",
       "      <td>2</td>\n",
       "      <td>4</td>\n",
       "      <td>6</td>\n",
       "    </tr>\n",
       "    <tr>\n",
       "      <th>1</th>\n",
       "      <td>Augsburg</td>\n",
       "      <td>2</td>\n",
       "      <td>6</td>\n",
       "      <td>8</td>\n",
       "    </tr>\n",
       "    <tr>\n",
       "      <th>2</th>\n",
       "      <td>Bayern Munich</td>\n",
       "      <td>9</td>\n",
       "      <td>14</td>\n",
       "      <td>23</td>\n",
       "    </tr>\n",
       "    <tr>\n",
       "      <th>3</th>\n",
       "      <td>Bochum</td>\n",
       "      <td>3</td>\n",
       "      <td>7</td>\n",
       "      <td>10</td>\n",
       "    </tr>\n",
       "    <tr>\n",
       "      <th>4</th>\n",
       "      <td>Braunschweig</td>\n",
       "      <td>4</td>\n",
       "      <td>6</td>\n",
       "      <td>10</td>\n",
       "    </tr>\n",
       "  </tbody>\n",
       "</table>\n",
       "</div>"
      ],
      "text/plain": [
       "            team  awaywin  homewin  totalwin\n",
       "0         Aachen        2        4         6\n",
       "1       Augsburg        2        6         8\n",
       "2  Bayern Munich        9       14        23\n",
       "3         Bochum        3        7        10\n",
       "4   Braunschweig        4        6        10"
      ]
     },
     "execution_count": 14,
     "metadata": {},
     "output_type": "execute_result"
    }
   ],
   "source": [
    "wins_df= pd.merge(awaywin_df, homewin_df, on='team')\n",
    "\n",
    "wins_df['totalwin'] = wins_df['homewin']+ wins_df['awaywin']\n",
    "wins_df.head()\n"
   ]
  },
  {
   "cell_type": "code",
   "execution_count": 15,
   "metadata": {},
   "outputs": [
    {
     "data": {
      "text/html": [
       "<div>\n",
       "<style scoped>\n",
       "    .dataframe tbody tr th:only-of-type {\n",
       "        vertical-align: middle;\n",
       "    }\n",
       "\n",
       "    .dataframe tbody tr th {\n",
       "        vertical-align: top;\n",
       "    }\n",
       "\n",
       "    .dataframe thead th {\n",
       "        text-align: right;\n",
       "    }\n",
       "</style>\n",
       "<table border=\"1\" class=\"dataframe\">\n",
       "  <thead>\n",
       "    <tr style=\"text-align: right;\">\n",
       "      <th></th>\n",
       "      <th>team</th>\n",
       "      <th>awayloss</th>\n",
       "      <th>homeloss</th>\n",
       "      <th>totaloss</th>\n",
       "    </tr>\n",
       "  </thead>\n",
       "  <tbody>\n",
       "    <tr>\n",
       "      <th>0</th>\n",
       "      <td>Aachen</td>\n",
       "      <td>8</td>\n",
       "      <td>7</td>\n",
       "      <td>15</td>\n",
       "    </tr>\n",
       "    <tr>\n",
       "      <th>1</th>\n",
       "      <td>Augsburg</td>\n",
       "      <td>8</td>\n",
       "      <td>4</td>\n",
       "      <td>12</td>\n",
       "    </tr>\n",
       "    <tr>\n",
       "      <th>2</th>\n",
       "      <td>Bayern Munich</td>\n",
       "      <td>5</td>\n",
       "      <td>2</td>\n",
       "      <td>7</td>\n",
       "    </tr>\n",
       "    <tr>\n",
       "      <th>3</th>\n",
       "      <td>Bochum</td>\n",
       "      <td>10</td>\n",
       "      <td>7</td>\n",
       "      <td>17</td>\n",
       "    </tr>\n",
       "    <tr>\n",
       "      <th>4</th>\n",
       "      <td>Braunschweig</td>\n",
       "      <td>6</td>\n",
       "      <td>3</td>\n",
       "      <td>9</td>\n",
       "    </tr>\n",
       "  </tbody>\n",
       "</table>\n",
       "</div>"
      ],
      "text/plain": [
       "            team  awayloss  homeloss  totaloss\n",
       "0         Aachen         8         7        15\n",
       "1       Augsburg         8         4        12\n",
       "2  Bayern Munich         5         2         7\n",
       "3         Bochum        10         7        17\n",
       "4   Braunschweig         6         3         9"
      ]
     },
     "execution_count": 15,
     "metadata": {},
     "output_type": "execute_result"
    }
   ],
   "source": [
    "loss_df= pd.merge(awayloss_df, homeloss_df, on='team')\n",
    "\n",
    "loss_df['totaloss'] = loss_df['homeloss']+ loss_df['awayloss']\n",
    "\n",
    "loss_df.head()"
   ]
  },
  {
   "cell_type": "code",
   "execution_count": 16,
   "metadata": {},
   "outputs": [],
   "source": [
    "totalwinloss = pd.merge(wins_df, loss_df, on='team', how='left')"
   ]
  },
  {
   "cell_type": "code",
   "execution_count": 17,
   "metadata": {},
   "outputs": [
    {
     "data": {
      "text/html": [
       "<div>\n",
       "<style scoped>\n",
       "    .dataframe tbody tr th:only-of-type {\n",
       "        vertical-align: middle;\n",
       "    }\n",
       "\n",
       "    .dataframe tbody tr th {\n",
       "        vertical-align: top;\n",
       "    }\n",
       "\n",
       "    .dataframe thead th {\n",
       "        text-align: right;\n",
       "    }\n",
       "</style>\n",
       "<table border=\"1\" class=\"dataframe\">\n",
       "  <thead>\n",
       "    <tr style=\"text-align: right;\">\n",
       "      <th></th>\n",
       "      <th>team</th>\n",
       "      <th>awaywin</th>\n",
       "      <th>homewin</th>\n",
       "      <th>totalwin</th>\n",
       "      <th>awayloss</th>\n",
       "      <th>homeloss</th>\n",
       "      <th>totaloss</th>\n",
       "    </tr>\n",
       "  </thead>\n",
       "  <tbody>\n",
       "    <tr>\n",
       "      <th>0</th>\n",
       "      <td>Aachen</td>\n",
       "      <td>2</td>\n",
       "      <td>4</td>\n",
       "      <td>6</td>\n",
       "      <td>8.0</td>\n",
       "      <td>7.0</td>\n",
       "      <td>15.0</td>\n",
       "    </tr>\n",
       "    <tr>\n",
       "      <th>1</th>\n",
       "      <td>Augsburg</td>\n",
       "      <td>2</td>\n",
       "      <td>6</td>\n",
       "      <td>8</td>\n",
       "      <td>8.0</td>\n",
       "      <td>4.0</td>\n",
       "      <td>12.0</td>\n",
       "    </tr>\n",
       "    <tr>\n",
       "      <th>2</th>\n",
       "      <td>Bayern Munich</td>\n",
       "      <td>9</td>\n",
       "      <td>14</td>\n",
       "      <td>23</td>\n",
       "      <td>5.0</td>\n",
       "      <td>2.0</td>\n",
       "      <td>7.0</td>\n",
       "    </tr>\n",
       "    <tr>\n",
       "      <th>3</th>\n",
       "      <td>Bochum</td>\n",
       "      <td>3</td>\n",
       "      <td>7</td>\n",
       "      <td>10</td>\n",
       "      <td>10.0</td>\n",
       "      <td>7.0</td>\n",
       "      <td>17.0</td>\n",
       "    </tr>\n",
       "    <tr>\n",
       "      <th>4</th>\n",
       "      <td>Braunschweig</td>\n",
       "      <td>4</td>\n",
       "      <td>6</td>\n",
       "      <td>10</td>\n",
       "      <td>6.0</td>\n",
       "      <td>3.0</td>\n",
       "      <td>9.0</td>\n",
       "    </tr>\n",
       "  </tbody>\n",
       "</table>\n",
       "</div>"
      ],
      "text/plain": [
       "            team  awaywin  homewin  totalwin  awayloss  homeloss  totaloss\n",
       "0         Aachen        2        4         6       8.0       7.0      15.0\n",
       "1       Augsburg        2        6         8       8.0       4.0      12.0\n",
       "2  Bayern Munich        9       14        23       5.0       2.0       7.0\n",
       "3         Bochum        3        7        10      10.0       7.0      17.0\n",
       "4   Braunschweig        4        6        10       6.0       3.0       9.0"
      ]
     },
     "execution_count": 17,
     "metadata": {},
     "output_type": "execute_result"
    }
   ],
   "source": [
    "totalwinloss.head()"
   ]
  },
  {
   "cell_type": "markdown",
   "metadata": {},
   "source": [
    "## 4. A histogram visualization of the team's wins and losses for the 2011 season (store the visualization directly)"
   ]
  },
  {
   "cell_type": "code",
   "execution_count": 45,
   "metadata": {},
   "outputs": [
    {
     "data": {
      "image/png": "[encoded data removed]",
      "text/plain": [
       "<Figure size 720x1080 with 6 Axes>"
      ]
     },
     "metadata": {
      "needs_background": "light"
     },
     "output_type": "display_data"
    },
    {
     "data": {
      "text/plain": [
       "<Figure size 432x288 with 0 Axes>"
      ]
     },
     "metadata": {},
     "output_type": "display_data"
    }
   ],
   "source": [
    "fig, axes = plt.subplots(nrows=3, ncols=2, figsize=(10, 15))\n",
    "ax0, ax1, ax2, ax3, ax4, ax5 = axes.flatten()\n",
    "\n",
    "\n",
    "ax0.hist(totalwinloss['awaywin'], bins = 10, color='purple')\n",
    "ax0.set_title('Away Team Wins')\n",
    "\n",
    "ax1.hist(totalwinloss['awayloss'],bins = 10,  color='#ff8a33')\n",
    "ax1.set_title('Away Team Losses')\n",
    "\n",
    "ax2.hist(totalwinloss['homewin'], bins = 10, color='#47D85B')\n",
    "ax2.set_title('Home Team Wins')\n",
    "\n",
    "ax3.hist(totalwinloss['homeloss'],bins = 10,  color='pink')\n",
    "ax3.set_title('Home Team losses')\n",
    "\n",
    "ax4.hist(totalwinloss['homewin'], bins = 10, color='orange')\n",
    "ax4.set_title('Total Wins')\n",
    "\n",
    "ax5.hist(totalwinloss['homeloss'],bins = 10,  color='blue')\n",
    "ax5.set_title('Total losses')\n",
    "\n",
    "fig.tight_layout()\n",
    "plt.show()\n",
    "\n",
    "plt.savefig('histograms.png')"
   ]
  },
  {
   "cell_type": "markdown",
   "metadata": {},
   "source": [
    "### API: Weather Data"
   ]
  },
  {
   "cell_type": "code",
   "execution_count": 19,
   "metadata": {},
   "outputs": [
    {
     "name": "stdout",
     "output_type": "stream",
     "text": [
      "Requirement already satisfied: python-dotenv in /Users/flatironschool/anaconda3/lib/python3.7/site-packages (0.10.3)\n"
     ]
    }
   ],
   "source": [
    "!pip install python-dotenv"
   ]
  },
  {
   "cell_type": "code",
   "execution_count": 20,
   "metadata": {},
   "outputs": [],
   "source": [
    "# lat 52.5200, long 13.4050 for Berlin\n",
    "# API data format [YYYY]-[MM]-[DD]T[HH]:[MM]:[SS][timezone]. timezone\n",
    "\n",
    "%load_ext autoreload\n",
    "%autoreload 2\n",
    "\n",
    "from dotenv import load_dotenv\n",
    "import os\n",
    "\n",
    "load_dotenv()\n",
    "\n",
    "class WeatherGetter():\n",
    "\n",
    "    def __init__(self):\n",
    "        # Let's set our secrets and keys from the .env file\n",
    "        # as environment variables.\n",
    "        self.BASE_URL = 'https://api.darksky.net'\n",
    "        self.token = os.getenv('DARKSKY_KEY')\n",
    "\n",
    "        if len(self.token) == 0:\n",
    "            raise ValueError('Missing API key!')\n",
    "    \n",
    "    def getForecast(self, date=list):\n",
    "        weather_dates={}\n",
    "\n",
    "        for date in dates_list:\n",
    "            weather = requests.get(f'https://api.darksky.net/forecast/{self.token}/52.5200, 13.4050, {date}').json()\n",
    "            weather_like = weather['currently']['summary']\n",
    "            weather_dates[date] = weather_like\n",
    "    \n",
    "        return weather_dates"
   ]
  },
  {
   "cell_type": "code",
   "execution_count": 21,
   "metadata": {},
   "outputs": [
    {
     "data": {
      "text/plain": [
       "136"
      ]
     },
     "execution_count": 21,
     "metadata": {},
     "output_type": "execute_result"
    }
   ],
   "source": [
    "unique = df_matches['Date'].unique()\n",
    "\n",
    "dates_list = []\n",
    "\n",
    "for datetime in unique:\n",
    "    dates_list.append(datetime + \"T20:00:00\")\n",
    "    \n",
    "len(dates_list)"
   ]
  },
  {
   "cell_type": "code",
   "execution_count": 22,
   "metadata": {},
   "outputs": [],
   "source": [
    "#create a class instance \n",
    "call=WeatherGetter()"
   ]
  },
  {
   "cell_type": "code",
   "execution_count": 23,
   "metadata": {},
   "outputs": [],
   "source": [
    "#call the calss method \n",
    "weather_dates = call.getForecast(dates_list)"
   ]
  },
  {
   "cell_type": "code",
   "execution_count": 24,
   "metadata": {},
   "outputs": [],
   "source": [
    "#get the json result into a dataframe\n",
    "weather_df = pd.DataFrame(list(weather_dates.items()), columns=['date', 'DateValue'])"
   ]
  },
  {
   "cell_type": "code",
   "execution_count": 44,
   "metadata": {},
   "outputs": [],
   "source": [
    "#to simplify the merge I create a new column that matches the date format in the json file\n",
    "df_matches['date']= df_matches['Date'].map(lambda x: x + \"T20:00:00\")"
   ]
  },
  {
   "cell_type": "code",
   "execution_count": 26,
   "metadata": {},
   "outputs": [],
   "source": [
    "matches_weather_df = pd.merge(df_matches, weather_df, on='date')"
   ]
  },
  {
   "cell_type": "code",
   "execution_count": 27,
   "metadata": {},
   "outputs": [
    {
     "data": {
      "text/plain": [
       "array(['Mostly Cloudy', 'Clear', 'Partly Cloudy', 'Possible Light Rain',\n",
       "       'Possible Drizzle', 'Overcast', 'Light Rain', 'Foggy', 'Rain'],\n",
       "      dtype=object)"
      ]
     },
     "execution_count": 27,
     "metadata": {},
     "output_type": "execute_result"
    }
   ],
   "source": [
    "matches_weather_df['DateValue'].unique()"
   ]
  },
  {
   "cell_type": "code",
   "execution_count": 28,
   "metadata": {},
   "outputs": [],
   "source": [
    "matches_weather_df['rain'] = matches_weather_df['DateValue'].apply(lambda x: 1 if x=='Rain' else (1 if x=='Light Rain' else 0) )"
   ]
  },
  {
   "cell_type": "code",
   "execution_count": 29,
   "metadata": {},
   "outputs": [],
   "source": [
    "matches_weather_df['rain_home_win'] =np.where(np.logical_and(matches_weather_df['FTR']=='H',matches_weather_df['rain']==1),1,0)"
   ]
  },
  {
   "cell_type": "code",
   "execution_count": 30,
   "metadata": {},
   "outputs": [],
   "source": [
    "matches_weather_df['rain_away_win'] =np.where(np.logical_and(matches_weather_df['FTR']=='H',matches_weather_df['rain']==1),1,0)"
   ]
  },
  {
   "cell_type": "code",
   "execution_count": 31,
   "metadata": {},
   "outputs": [],
   "source": [
    "hometeam = matches_weather_df.groupby(['HomeTeam']).sum()\n",
    "\n",
    "hometeam['Team']= hometeam.index\n",
    "\n",
    "home = hometeam.loc[:,['Team','rain_home_win', 'rain']]"
   ]
  },
  {
   "cell_type": "code",
   "execution_count": 32,
   "metadata": {},
   "outputs": [],
   "source": [
    "awayteam = matches_weather_df.groupby(['AwayTeam']).sum()\n",
    "awayteam['Team']= hometeam.index\n",
    "away = awayteam.loc[:,['Team', 'rain_away_win','rain']]"
   ]
  },
  {
   "cell_type": "code",
   "execution_count": 33,
   "metadata": {},
   "outputs": [],
   "source": [
    "rain_wins = pd.merge(away, home, on ='Team')"
   ]
  },
  {
   "cell_type": "code",
   "execution_count": 34,
   "metadata": {},
   "outputs": [],
   "source": [
    "rain_wins.groupby('Team').sum()\n",
    "\n",
    "rain_wins['total']=rain_wins['rain_home_win']+rain_wins['rain_away_win']\n",
    "\n",
    "rain_wins['total_rain'] = rain_wins['rain_x']+rain_wins['rain_y']"
   ]
  },
  {
   "cell_type": "code",
   "execution_count": 35,
   "metadata": {},
   "outputs": [],
   "source": [
    "per_win = rain_wins.groupby('Team').sum()\n",
    "\n",
    "per_win['percentage'] = per_win['total']/per_win['total_rain']"
   ]
  },
  {
   "cell_type": "code",
   "execution_count": 36,
   "metadata": {},
   "outputs": [],
   "source": [
    "per_win['team'] = per_win.index"
   ]
  },
  {
   "cell_type": "markdown",
   "metadata": {},
   "source": [
    "## From DataFrame to MongoDB"
   ]
  },
  {
   "cell_type": "code",
   "execution_count": 2,
   "metadata": {},
   "outputs": [
    {
     "ename": "NameError",
     "evalue": "name 'pd' is not defined",
     "output_type": "error",
     "traceback": [
      "\u001b[0;31m---------------------------------------------------------------------------\u001b[0m",
      "\u001b[0;31mNameError\u001b[0m                                 Traceback (most recent call last)",
      "\u001b[0;32m<ipython-input-2-3690beb10bb1>\u001b[0m in \u001b[0;36m<module>\u001b[0;34m\u001b[0m\n\u001b[0;32m----> 1\u001b[0;31m \u001b[0mmongodata\u001b[0m \u001b[0;34m=\u001b[0m \u001b[0mpd\u001b[0m\u001b[0;34m.\u001b[0m\u001b[0mmerge\u001b[0m\u001b[0;34m(\u001b[0m\u001b[0mtotalwinloss\u001b[0m\u001b[0;34m,\u001b[0m\u001b[0mper_win\u001b[0m\u001b[0;34m,\u001b[0m \u001b[0mon\u001b[0m\u001b[0;34m=\u001b[0m\u001b[0;34m'team'\u001b[0m\u001b[0;34m)\u001b[0m\u001b[0;34m\u001b[0m\u001b[0;34m\u001b[0m\u001b[0m\n\u001b[0m",
      "\u001b[0;31mNameError\u001b[0m: name 'pd' is not defined"
     ]
    }
   ],
   "source": [
    "mongodata = pd.merge(totalwinloss,per_win, on='team')"
   ]
  },
  {
   "cell_type": "code",
   "execution_count": null,
   "metadata": {},
   "outputs": [],
   "source": []
  },
  {
   "cell_type": "code",
   "execution_count": 38,
   "metadata": {},
   "outputs": [],
   "source": [
    "mymongo = pymongo.MongoClient(\"mongodb://127.0.0.1:27017/\")"
   ]
  },
  {
   "cell_type": "code",
   "execution_count": 39,
   "metadata": {},
   "outputs": [
    {
     "data": {
      "text/plain": [
       "MongoClient(host=['127.0.0.1:27017'], document_class=dict, tz_aware=False, connect=True)"
      ]
     },
     "execution_count": 39,
     "metadata": {},
     "output_type": "execute_result"
    }
   ],
   "source": [
    "mymongo"
   ]
  },
  {
   "cell_type": "code",
   "execution_count": 40,
   "metadata": {},
   "outputs": [],
   "source": [
    "mydb = mymongo['teams_data']"
   ]
  },
  {
   "cell_type": "code",
   "execution_count": 41,
   "metadata": {},
   "outputs": [],
   "source": [
    "mycollection = mydb['myteams']"
   ]
  },
  {
   "cell_type": "code",
   "execution_count": 42,
   "metadata": {},
   "outputs": [],
   "source": [
    "mydict = list(mongodata.to_dict(orient='records'))\n"
   ]
  },
  {
   "cell_type": "code",
   "execution_count": 43,
   "metadata": {},
   "outputs": [
    {
     "data": {
      "text/plain": [
       "<pymongo.results.InsertManyResult at 0x1a1a08c188>"
      ]
     },
     "execution_count": 43,
     "metadata": {},
     "output_type": "execute_result"
    }
   ],
   "source": [
    "mycollection.insert_many(mydict)"
   ]
  },
  {
   "cell_type": "code",
   "execution_count": 1,
   "metadata": {},
   "outputs": [
    {
     "name": "stdout",
     "output_type": "stream",
     "text": [
      "[NbConvertApp] Converting notebook mod_2.ipynb to script\n",
      "[NbConvertApp] Writing 10203 bytes to mod_2.py\n"
     ]
    }
   ],
   "source": [
    "!jupyter nbconvert --to script mod_2.ipynb"
   ]
  },
  {
   "cell_type": "code",
   "execution_count": null,
   "metadata": {},
   "outputs": [],
   "source": []
  }
 ],
 "metadata": {
  "kernelspec": {
   "display_name": "Python 3",
   "language": "python",
   "name": "python3"
  },
  "language_info": {
   "codemirror_mode": {
    "name": "ipython",
    "version": 3
   },
   "file_extension": ".py",
   "mimetype": "text/x-python",
   "name": "python",
   "nbconvert_exporter": "python",
   "pygments_lexer": "ipython3",
   "version": "3.7.3"
  }
 },
 "nbformat": 4,
 "nbformat_minor": 4
}
