{
 "cells": [
  {
   "cell_type": "code",
   "execution_count": 1,
   "metadata": {},
   "outputs": [],
   "source": [
    "import sqlite3 \n",
    "import pandas as pd\n",
    "import matplotlib.pyplot as plt\n",
    "%matplotlib inline\n",
    "\n",
    "import requests\n",
    "import numpy as np\n",
    "from datetime import date, datetime\n",
    "import time\n",
    "import pymongo\n",
    "import seaborn as sns\n",
    "import os\n",
    "\n",
    "import dotenv\n",
    "from dotenv import load_dotenv\n",
    "\n",
    "%load_ext autoreload\n",
    "%autoreload 2"
   ]
  },
  {
   "cell_type": "code",
   "execution_count": 2,
   "metadata": {},
   "outputs": [
    {
     "name": "stdout",
     "output_type": "stream",
     "text": [
      "Requirement already satisfied: pandasql in /Users/flatironschool/anaconda3/lib/python3.7/site-packages (0.7.3)\n",
      "Requirement already satisfied: sqlalchemy in /Users/flatironschool/anaconda3/lib/python3.7/site-packages (from pandasql) (1.3.5)\n",
      "Requirement already satisfied: numpy in /Users/flatironschool/anaconda3/lib/python3.7/site-packages (from pandasql) (1.16.4)\n",
      "Requirement already satisfied: pandas in /Users/flatironschool/anaconda3/lib/python3.7/site-packages (from pandasql) (0.24.2)\n",
      "Requirement already satisfied: pytz>=2011k in /Users/flatironschool/anaconda3/lib/python3.7/site-packages (from pandas->pandasql) (2019.1)\n",
      "Requirement already satisfied: python-dateutil>=2.5.0 in /Users/flatironschool/anaconda3/lib/python3.7/site-packages (from pandas->pandasql) (2.8.0)\n",
      "Requirement already satisfied: six>=1.5 in /Users/flatironschool/anaconda3/lib/python3.7/site-packages (from python-dateutil>=2.5.0->pandas->pandasql) (1.12.0)\n"
     ]
    }
   ],
   "source": [
    "!pip install pandasql"
   ]
  },
  {
   "cell_type": "code",
   "execution_count": 3,
   "metadata": {},
   "outputs": [
    {
     "name": "stdout",
     "output_type": "stream",
     "text": [
      "Requirement already satisfied: python-dotenv in /Users/flatironschool/anaconda3/lib/python3.7/site-packages (0.10.3)\n"
     ]
    }
   ],
   "source": [
    "!pip install python-dotenv"
   ]
  },
  {
   "cell_type": "code",
   "execution_count": 4,
   "metadata": {},
   "outputs": [],
   "source": [
    "#connect to the database and create a cursor\n",
    "con = sqlite3.connect('database.sqlite')\n",
    "cur = con.cursor()"
   ]
  },
  {
   "cell_type": "code",
   "execution_count": 5,
   "metadata": {},
   "outputs": [
    {
     "data": {
      "text/plain": [
       "[('Matches',),\n",
       " ('Teams',),\n",
       " ('Teams_in_Matches',),\n",
       " ('Unique_Teams',),\n",
       " ('sqlite_sequence',)]"
      ]
     },
     "execution_count": 5,
     "metadata": {},
     "output_type": "execute_result"
    }
   ],
   "source": [
    "#fecth all the table names\n",
    "query = \"\"\"SELECT name FROM sqlite_master\n",
    "         WHERE type='table'\n",
    "         ORDER BY name\"\"\"\n",
    "\n",
    "cur.execute(query).fetchall()"
   ]
  },
  {
   "cell_type": "code",
   "execution_count": 6,
   "metadata": {},
   "outputs": [],
   "source": [
    "#create a dataframe from the db table filtering for 2011 season and German League\n",
    "\n",
    "matches = cur.execute(\"\"\"select *\n",
    "            from Matches \n",
    "            where Season = 2011\n",
    "            AND ((Div = 'D1' OR Div='D2'))\"\"\").fetchall()\n",
    "\n",
    "df_matches = pd.DataFrame(matches)\n",
    "df_matches. columns = [i[0] for i in cur.description]\n",
    "\n",
    "\n",
    "dates = df_matches['Date'].unique()"
   ]
  },
  {
   "cell_type": "markdown",
   "metadata": {},
   "source": [
    "\n",
    "### 1. The name of the team\n",
    "### 2. The total number of goals scored by the team during the 2011 season for the German Leagues\n",
    "### 3. The total number of wins the team earned during the 2011 season"
   ]
  },
  {
   "cell_type": "code",
   "execution_count": 7,
   "metadata": {},
   "outputs": [],
   "source": [
    "query = cur.execute(\"\"\"\n",
    "  SELECT\n",
    "         ut.Unique_Team_ID, ut.TeamName,\n",
    "                 sum(case\n",
    "                       when ut.TeamName=m.HomeTeam\n",
    "                       then m.FTHG\n",
    "                       end) as goalshome,\n",
    "               sum( case\n",
    "                   when ut.TeamName=m.AwayTeam\n",
    "                   then m.FTAG\n",
    "                   else 0\n",
    "                   end) as goalsaway,\n",
    "               count(case\n",
    "                    when ut.TeamName=m.HomeTeam\n",
    "                    and m.FTR='H'\n",
    "                    then 1 else NULL END\n",
    "                    ) as homewins,\n",
    "               count(case\n",
    "                    when ut.TeamName=m.HomeTeam\n",
    "                    and m.FTR='A'\n",
    "                    then 1 else NULL END\n",
    "                     ) as homelosses,\n",
    "               count(case\n",
    "                    when ut.TeamName=m.AwayTeam\n",
    "                    and m.FTR='A'\n",
    "                    then 1 else NULL END\n",
    "                    ) as awaywins,\n",
    "               count(case\n",
    "                     when ut.TeamName=m.AwayTeam\n",
    "                     and m.FTR='H'\n",
    "                     then 1 else NULL END\n",
    "                     ) as awaylosses\n",
    "               from Unique_Teams ut\n",
    "                   join Teams_in_Matches tm\n",
    "                       on ut.Unique_Team_ID=tm.Unique_Team_ID\n",
    "                   join Matches m\n",
    "                       on m.Match_ID=tm.Match_ID\n",
    "               where m.Season = 2011\n",
    "                   and ((Div = 'D1' OR Div='D2'))\n",
    "               group by ut.Unique_Team_ID\n",
    "               order by ut.TeamName;\n",
    "\"\"\").fetchall()\n",
    "\n"
   ]
  },
  {
   "cell_type": "code",
   "execution_count": 8,
   "metadata": {},
   "outputs": [
    {
     "data": {
      "text/html": [
       "<div>\n",
       "<style scoped>\n",
       "    .dataframe tbody tr th:only-of-type {\n",
       "        vertical-align: middle;\n",
       "    }\n",
       "\n",
       "    .dataframe tbody tr th {\n",
       "        vertical-align: top;\n",
       "    }\n",
       "\n",
       "    .dataframe thead th {\n",
       "        text-align: right;\n",
       "    }\n",
       "</style>\n",
       "<table border=\"1\" class=\"dataframe\">\n",
       "  <thead>\n",
       "    <tr style=\"text-align: right;\">\n",
       "      <th></th>\n",
       "      <th>Unique_Team_ID</th>\n",
       "      <th>TeamName</th>\n",
       "      <th>goalshome</th>\n",
       "      <th>goalsaway</th>\n",
       "      <th>homewins</th>\n",
       "      <th>homelosses</th>\n",
       "      <th>awaywins</th>\n",
       "      <th>awaylosses</th>\n",
       "    </tr>\n",
       "  </thead>\n",
       "  <tbody>\n",
       "    <tr>\n",
       "      <th>0</th>\n",
       "      <td>34</td>\n",
       "      <td>Aachen</td>\n",
       "      <td>15</td>\n",
       "      <td>15</td>\n",
       "      <td>4</td>\n",
       "      <td>7</td>\n",
       "      <td>2</td>\n",
       "      <td>8</td>\n",
       "    </tr>\n",
       "    <tr>\n",
       "      <th>1</th>\n",
       "      <td>15</td>\n",
       "      <td>Augsburg</td>\n",
       "      <td>20</td>\n",
       "      <td>16</td>\n",
       "      <td>6</td>\n",
       "      <td>4</td>\n",
       "      <td>2</td>\n",
       "      <td>8</td>\n",
       "    </tr>\n",
       "    <tr>\n",
       "      <th>2</th>\n",
       "      <td>1</td>\n",
       "      <td>Bayern Munich</td>\n",
       "      <td>49</td>\n",
       "      <td>28</td>\n",
       "      <td>14</td>\n",
       "      <td>2</td>\n",
       "      <td>9</td>\n",
       "      <td>5</td>\n",
       "    </tr>\n",
       "    <tr>\n",
       "      <th>3</th>\n",
       "      <td>28</td>\n",
       "      <td>Bochum</td>\n",
       "      <td>23</td>\n",
       "      <td>18</td>\n",
       "      <td>7</td>\n",
       "      <td>7</td>\n",
       "      <td>3</td>\n",
       "      <td>10</td>\n",
       "    </tr>\n",
       "    <tr>\n",
       "      <th>4</th>\n",
       "      <td>23</td>\n",
       "      <td>Braunschweig</td>\n",
       "      <td>21</td>\n",
       "      <td>16</td>\n",
       "      <td>6</td>\n",
       "      <td>3</td>\n",
       "      <td>4</td>\n",
       "      <td>6</td>\n",
       "    </tr>\n",
       "  </tbody>\n",
       "</table>\n",
       "</div>"
      ],
      "text/plain": [
       "   Unique_Team_ID       TeamName  goalshome  goalsaway  homewins  homelosses  \\\n",
       "0              34         Aachen         15         15         4           7   \n",
       "1              15       Augsburg         20         16         6           4   \n",
       "2               1  Bayern Munich         49         28        14           2   \n",
       "3              28         Bochum         23         18         7           7   \n",
       "4              23   Braunschweig         21         16         6           3   \n",
       "\n",
       "   awaywins  awaylosses  \n",
       "0         2           8  \n",
       "1         2           8  \n",
       "2         9           5  \n",
       "3         3          10  \n",
       "4         4           6  "
      ]
     },
     "execution_count": 8,
     "metadata": {},
     "output_type": "execute_result"
    }
   ],
   "source": [
    "full_df = pd.DataFrame(query)\n",
    "full_df.columns = [i[0] for i in cur.description]\n",
    "\n",
    "full_df.head()"
   ]
  },
  {
   "cell_type": "markdown",
   "metadata": {},
   "source": [
    "## 4. A histogram visualization of the team's wins and losses for the 2011 season (store the visualization directly)"
   ]
  },
  {
   "cell_type": "code",
   "execution_count": 9,
   "metadata": {},
   "outputs": [
    {
     "data": {
      "image/png": "[encoded data removed]",
      "text/plain": [
       "<Figure size 720x720 with 4 Axes>"
      ]
     },
     "metadata": {
      "needs_background": "light"
     },
     "output_type": "display_data"
    },
    {
     "data": {
      "text/plain": [
       "<Figure size 432x288 with 0 Axes>"
      ]
     },
     "metadata": {},
     "output_type": "display_data"
    }
   ],
   "source": [
    "fig, axes = plt.subplots(nrows=2, ncols=2, figsize=(10, 10))\n",
    "ax0, ax1, ax2, ax3 = axes.flatten()\n",
    "\n",
    "\n",
    "ax0.hist(full_df['awaywins'], bins = 10, color='purple', density = True)\n",
    "ax0.set_title('Away Team Wins')\n",
    "\n",
    "ax1.hist(full_df['awaylosses'],bins = 10,  color='#ff8a33', density = True)\n",
    "ax1.set_title('Away Team Losses')\n",
    "\n",
    "ax2.hist(full_df['homewins'], bins = 10, color='#47D85B', density = True)\n",
    "ax2.set_title('Home Team Wins')\n",
    "\n",
    "ax3.hist(full_df['homelosses'],bins = 10,  color='pink', density = True)\n",
    "ax3.set_title('Home Team losses')\n",
    "\n",
    "fig.tight_layout()\n",
    "plt.show()\n",
    "\n",
    "plt.savefig('histograms.png')"
   ]
  },
  {
   "cell_type": "markdown",
   "metadata": {},
   "source": [
    "### API: Weather Data"
   ]
  },
  {
   "cell_type": "code",
   "execution_count": 65,
   "metadata": {},
   "outputs": [],
   "source": [
    "# API format:\n",
    "# Berlin lat 52.5200, long 13.4050\n",
    "# API data format [YYYY]-[MM]-[DD]T[HH]:[MM]:[SS][timezone]. timezone\n",
    "\n",
    "\n",
    "load_dotenv()\n",
    "\n",
    "class WeatherGetter():\n",
    "\n",
    "    def __init__(self):\n",
    "        # Let's set our secrets and keys from the .env file\n",
    "        # as environment variables.\n",
    "        self.BASE_URL = 'https://api.darksky.net'\n",
    "        self.token = os.getenv('DARKSKY_KEY')\n",
    "\n",
    "#         if len(self.token) == 0:\n",
    "#             raise ValueError('Missing API key!')\n",
    "    \n",
    "    def getForecast(self, date=list):\n",
    "        weather_dates={}\n",
    "\n",
    "        for date in dates_list:\n",
    "            weather = requests.get(f'https://api.darksky.net/forecast/{self.token}/52.5200, 13.4050, {date}').json()\n",
    "#         daily = weather['currently']\n",
    "#         data = daily['data']\n",
    "#         data = data[0]\n",
    "#         data = data['icon']\n",
    "#         weather_dates[date] = data\n",
    "        return weather"
   ]
  },
  {
   "cell_type": "code",
   "execution_count": 66,
   "metadata": {},
   "outputs": [
    {
     "data": {
      "text/plain": [
       "136"
      ]
     },
     "execution_count": 66,
     "metadata": {},
     "output_type": "execute_result"
    }
   ],
   "source": [
    "unique = df_matches['Date'].unique()\n",
    "\n",
    "dates_list = []\n",
    "\n",
    "for datetime in unique:\n",
    "    dates_list.append(datetime + \"T20:00:00\")\n",
    "    \n",
    "len(dates_list)"
   ]
  },
  {
   "cell_type": "code",
   "execution_count": 67,
   "metadata": {},
   "outputs": [],
   "source": [
    "#create a class instance \n",
    "call = WeatherGetter()"
   ]
  },
  {
   "cell_type": "code",
   "execution_count": 71,
   "metadata": {},
   "outputs": [],
   "source": [
    "#call the calss method \n",
    "weather_dates = call.getForecast(dates_list)"
   ]
  },
  {
   "cell_type": "code",
   "execution_count": null,
   "metadata": {},
   "outputs": [],
   "source": [
    "#get the json result into a dataframe\n",
    "weather_df = pd.DataFrame(list(weather_dates.items()), columns=['date', 'DateValue'])"
   ]
  },
  {
   "cell_type": "code",
   "execution_count": null,
   "metadata": {},
   "outputs": [],
   "source": [
    "#to simplify the merge I create a new column that matches the date format in the json file\n",
    "df_matches['date']= df_matches['Date'].map(lambda x: x + \"T20:00:00\")"
   ]
  },
  {
   "cell_type": "code",
   "execution_count": null,
   "metadata": {},
   "outputs": [],
   "source": [
    "matches_weather_df = pd.merge(df_matches, weather_df, on='date')"
   ]
  },
  {
   "cell_type": "code",
   "execution_count": null,
   "metadata": {},
   "outputs": [],
   "source": [
    "matches_weather_df['DateValue'].unique()"
   ]
  },
  {
   "cell_type": "code",
   "execution_count": null,
   "metadata": {},
   "outputs": [],
   "source": [
    "matches_weather_df['rain'] = matches_weather_df['DateValue'].apply(lambda x: 1 if x=='Rain' else (1 if x=='Light Rain' else 0) )"
   ]
  },
  {
   "cell_type": "code",
   "execution_count": null,
   "metadata": {},
   "outputs": [],
   "source": [
    "matches_weather_df['rain_home_win'] =np.where(np.logical_and(matches_weather_df['FTR']=='H',matches_weather_df['rain']==1),1,0)"
   ]
  },
  {
   "cell_type": "code",
   "execution_count": null,
   "metadata": {},
   "outputs": [],
   "source": [
    "matches_weather_df['rain_away_win'] =np.where(np.logical_and(matches_weather_df['FTR']=='H',matches_weather_df['rain']==1),1,0)"
   ]
  },
  {
   "cell_type": "code",
   "execution_count": null,
   "metadata": {},
   "outputs": [],
   "source": [
    "hometeam = matches_weather_df.groupby(['HomeTeam']).sum()\n",
    "\n",
    "hometeam['Team']= hometeam.index\n",
    "\n",
    "home = hometeam.loc[:,['Team','rain_home_win', 'rain']]"
   ]
  },
  {
   "cell_type": "code",
   "execution_count": null,
   "metadata": {},
   "outputs": [],
   "source": [
    "awayteam = matches_weather_df.groupby(['AwayTeam']).sum()\n",
    "awayteam['Team']= hometeam.index\n",
    "away = awayteam.loc[:,['Team', 'rain_away_win','rain']]"
   ]
  },
  {
   "cell_type": "code",
   "execution_count": null,
   "metadata": {},
   "outputs": [],
   "source": [
    "rain_wins = pd.merge(away, home, on ='Team')"
   ]
  },
  {
   "cell_type": "code",
   "execution_count": null,
   "metadata": {},
   "outputs": [],
   "source": [
    "rain_wins.groupby('Team').sum()\n",
    "\n",
    "rain_wins['total']=rain_wins['rain_home_win']+rain_wins['rain_away_win']\n",
    "\n",
    "rain_wins['total_rain'] = rain_wins['rain_x']+rain_wins['rain_y']"
   ]
  },
  {
   "cell_type": "code",
   "execution_count": null,
   "metadata": {},
   "outputs": [],
   "source": [
    "per_win = rain_wins.groupby('Team').sum()\n",
    "\n",
    "per_win['percentage'] = per_win['total']/per_win['total_rain']"
   ]
  },
  {
   "cell_type": "code",
   "execution_count": null,
   "metadata": {},
   "outputs": [],
   "source": [
    "per_win['team'] = per_win.index"
   ]
  },
  {
   "cell_type": "markdown",
   "metadata": {},
   "source": [
    "## From DataFrame to MongoDB"
   ]
  },
  {
   "cell_type": "code",
   "execution_count": null,
   "metadata": {},
   "outputs": [],
   "source": [
    "mongodata = pd.merge(totalwinloss,per_win, on='team')"
   ]
  },
  {
   "cell_type": "code",
   "execution_count": null,
   "metadata": {},
   "outputs": [],
   "source": [
    "mymongo = pymongo.MongoClient(\"mongodb://127.0.0.1:27017/\")"
   ]
  },
  {
   "cell_type": "code",
   "execution_count": null,
   "metadata": {},
   "outputs": [],
   "source": [
    "mymongo"
   ]
  },
  {
   "cell_type": "code",
   "execution_count": null,
   "metadata": {},
   "outputs": [],
   "source": [
    "mydb = mymongo['teams_data']"
   ]
  },
  {
   "cell_type": "code",
   "execution_count": null,
   "metadata": {},
   "outputs": [],
   "source": [
    "mycollection = mydb['myteams']"
   ]
  },
  {
   "cell_type": "code",
   "execution_count": null,
   "metadata": {},
   "outputs": [],
   "source": [
    "mydict = list(mongodata.to_dict(orient='records'))\n"
   ]
  },
  {
   "cell_type": "code",
   "execution_count": null,
   "metadata": {},
   "outputs": [],
   "source": [
    "mycollection.insert_many(mydict)"
   ]
  }
 ],
 "metadata": {
  "kernelspec": {
   "display_name": "Python 3",
   "language": "python",
   "name": "python3"
  },
  "language_info": {
   "codemirror_mode": {
    "name": "ipython",
    "version": 3
   },
   "file_extension": ".py",
   "mimetype": "text/x-python",
   "name": "python",
   "nbconvert_exporter": "python",
   "pygments_lexer": "ipython3",
   "version": "3.7.3"
  }
 },
 "nbformat": 4,
 "nbformat_minor": 4
}
